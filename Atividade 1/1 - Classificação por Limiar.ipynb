{
 "cells": [
  {
   "cell_type": "code",
   "execution_count": 1,
   "id": "58019a31-5b02-4887-bb69-a8485f3de8a5",
   "metadata": {},
   "outputs": [],
   "source": [
    "import numpy as np\n",
    "import pandas as pd\n",
    "import matplotlib.pyplot as plt\n",
    "import seaborn as sns\n",
    "\n",
    "%matplotlib inline"
   ]
  },
  {
   "cell_type": "markdown",
   "id": "14b08459-bc7c-413b-8ef6-da20ce745a35",
   "metadata": {},
   "source": [
    "# Classificação por Limiar"
   ]
  },
  {
   "cell_type": "markdown",
   "id": "2b9b8200-fd0d-478c-b172-4ead5b4b6f12",
   "metadata": {},
   "source": [
    "Nesta aula vamos criar um classificador linear simples. Primeiramente apresento o conceito de características. Depois vamos explorar a relevância das características em relação a um atributo-alvo. Depois vamos discutir o conceito de *fronteira de decisão*. A seguir, vamos construir uma regra de classificação a partir da análise manual dos dados. Por fim, vamos analisar como encontrar o limiar de classificação automaticamente."
   ]
  },
  {
   "cell_type": "markdown",
   "id": "a4f21171-774f-43f6-b7f3-3fe944759f7e",
   "metadata": {},
   "source": [
    "# A base de dados\n",
    "\n",
    "A base de dados que vamos usar está em ``biometria.csv``. Ela contempla características físicas de vários jogadores de futebol e vôlei das seleções brasileiras de 2014. Nesta aula nosso objetivo é construir um classificador que decide o esporte que uma pessoa pratica a partir de suas características físicas."
   ]
  },
  {
   "cell_type": "code",
   "execution_count": 2,
   "id": "c6c150d8-9458-4823-a477-d7c962d0f560",
   "metadata": {},
   "outputs": [
    {
     "data": {
      "text/html": [
       "<div>\n",
       "<style scoped>\n",
       "    .dataframe tbody tr th:only-of-type {\n",
       "        vertical-align: middle;\n",
       "    }\n",
       "\n",
       "    .dataframe tbody tr th {\n",
       "        vertical-align: top;\n",
       "    }\n",
       "\n",
       "    .dataframe thead th {\n",
       "        text-align: right;\n",
       "    }\n",
       "</style>\n",
       "<table border=\"1\" class=\"dataframe\">\n",
       "  <thead>\n",
       "    <tr style=\"text-align: right;\">\n",
       "      <th></th>\n",
       "      <th>Esporte</th>\n",
       "      <th>Altura (m)</th>\n",
       "      <th>Peso (kg)</th>\n",
       "    </tr>\n",
       "  </thead>\n",
       "  <tbody>\n",
       "    <tr>\n",
       "      <th>0</th>\n",
       "      <td>Vôlei</td>\n",
       "      <td>1.90</td>\n",
       "      <td>76</td>\n",
       "    </tr>\n",
       "    <tr>\n",
       "      <th>1</th>\n",
       "      <td>Vôlei</td>\n",
       "      <td>1.98</td>\n",
       "      <td>70</td>\n",
       "    </tr>\n",
       "    <tr>\n",
       "      <th>2</th>\n",
       "      <td>Vôlei</td>\n",
       "      <td>2.04</td>\n",
       "      <td>101</td>\n",
       "    </tr>\n",
       "    <tr>\n",
       "      <th>3</th>\n",
       "      <td>Vôlei</td>\n",
       "      <td>1.88</td>\n",
       "      <td>77</td>\n",
       "    </tr>\n",
       "    <tr>\n",
       "      <th>4</th>\n",
       "      <td>Vôlei</td>\n",
       "      <td>2.14</td>\n",
       "      <td>109</td>\n",
       "    </tr>\n",
       "  </tbody>\n",
       "</table>\n",
       "</div>"
      ],
      "text/plain": [
       "  Esporte  Altura (m)  Peso (kg)\n",
       "0   Vôlei        1.90         76\n",
       "1   Vôlei        1.98         70\n",
       "2   Vôlei        2.04        101\n",
       "3   Vôlei        1.88         77\n",
       "4   Vôlei        2.14        109"
      ]
     },
     "execution_count": 2,
     "metadata": {},
     "output_type": "execute_result"
    }
   ],
   "source": [
    "df = pd.read_csv('biometria.csv')\n",
    "df.replace('V', 'Vôlei',inplace=True)\n",
    "df.replace('F', 'Futebol',inplace=True)\n",
    "df.head()\n",
    "#df"
   ]
  },
  {
   "cell_type": "markdown",
   "id": "c412dd4e-7587-4b27-88c6-1dfde645db52",
   "metadata": {},
   "source": [
    "# Análise dos dados\n",
    "\n",
    "Conhecer os dados é importante para projetar qualquer classificador. Esta análise serve para compreender a dificuldade do problema e possíveis métodos capazes de resolvê-lo.\n",
    "\n",
    "Cada um dos elementos do conjunto de dados usado é caracterizado por três valores: o esporte que pratica (Futebol ou Vôlei), altura e peso. Chamamos cada dado utilizado para descrever algum objeto em um sistema de classificação, como *esporte*, *altura* e *peso*, de *característica*. No caso do problema que estamos tentando resolver, *altura* e *peso* são características de entrada, enquanto *esporte* é a característica de saída.\n",
    "\n",
    "Visualizar todos esses dados na forma de uma tabela, porém, é claramente pouco prático. Podemos imaginar como conjuntos de dados ainda maiores se comportariam - uma tabela com jogadores de futebol e vôlei de todos os países que participam do campeonato mundial, por exemplo, seria obviamente muito grande para ser analisada na forma de números.\n",
    "\n",
    "Uma análise inicial importante consiste no cálculo das estatísticas descritivas de cada característica, agrupando pela característica de saída (classe), neste caso, o esporte praticado."
   ]
  },
  {
   "cell_type": "code",
   "execution_count": 3,
   "id": "a7ce9c17-d62d-4657-a0d8-38ecf7421130",
   "metadata": {},
   "outputs": [
    {
     "data": {
      "text/html": [
       "<div>\n",
       "<style scoped>\n",
       "    .dataframe tbody tr th:only-of-type {\n",
       "        vertical-align: middle;\n",
       "    }\n",
       "\n",
       "    .dataframe tbody tr th {\n",
       "        vertical-align: top;\n",
       "    }\n",
       "\n",
       "    .dataframe thead tr th {\n",
       "        text-align: left;\n",
       "    }\n",
       "\n",
       "    .dataframe thead tr:last-of-type th {\n",
       "        text-align: right;\n",
       "    }\n",
       "</style>\n",
       "<table border=\"1\" class=\"dataframe\">\n",
       "  <thead>\n",
       "    <tr>\n",
       "      <th></th>\n",
       "      <th colspan=\"8\" halign=\"left\">Altura (m)</th>\n",
       "      <th colspan=\"8\" halign=\"left\">Peso (kg)</th>\n",
       "    </tr>\n",
       "    <tr>\n",
       "      <th></th>\n",
       "      <th>count</th>\n",
       "      <th>mean</th>\n",
       "      <th>std</th>\n",
       "      <th>min</th>\n",
       "      <th>25%</th>\n",
       "      <th>50%</th>\n",
       "      <th>75%</th>\n",
       "      <th>max</th>\n",
       "      <th>count</th>\n",
       "      <th>mean</th>\n",
       "      <th>std</th>\n",
       "      <th>min</th>\n",
       "      <th>25%</th>\n",
       "      <th>50%</th>\n",
       "      <th>75%</th>\n",
       "      <th>max</th>\n",
       "    </tr>\n",
       "    <tr>\n",
       "      <th>Esporte</th>\n",
       "      <th></th>\n",
       "      <th></th>\n",
       "      <th></th>\n",
       "      <th></th>\n",
       "      <th></th>\n",
       "      <th></th>\n",
       "      <th></th>\n",
       "      <th></th>\n",
       "      <th></th>\n",
       "      <th></th>\n",
       "      <th></th>\n",
       "      <th></th>\n",
       "      <th></th>\n",
       "      <th></th>\n",
       "      <th></th>\n",
       "      <th></th>\n",
       "    </tr>\n",
       "  </thead>\n",
       "  <tbody>\n",
       "    <tr>\n",
       "      <th>Futebol</th>\n",
       "      <td>23.0</td>\n",
       "      <td>1.813478</td>\n",
       "      <td>0.070878</td>\n",
       "      <td>1.63</td>\n",
       "      <td>1.765</td>\n",
       "      <td>1.81</td>\n",
       "      <td>1.8700</td>\n",
       "      <td>1.93</td>\n",
       "      <td>23.0</td>\n",
       "      <td>75.000000</td>\n",
       "      <td>7.537784</td>\n",
       "      <td>60.0</td>\n",
       "      <td>69.50</td>\n",
       "      <td>76.0</td>\n",
       "      <td>79.5</td>\n",
       "      <td>88.0</td>\n",
       "    </tr>\n",
       "    <tr>\n",
       "      <th>Vôlei</th>\n",
       "      <td>22.0</td>\n",
       "      <td>1.986818</td>\n",
       "      <td>0.081497</td>\n",
       "      <td>1.85</td>\n",
       "      <td>1.925</td>\n",
       "      <td>1.98</td>\n",
       "      <td>2.0475</td>\n",
       "      <td>2.14</td>\n",
       "      <td>22.0</td>\n",
       "      <td>86.863636</td>\n",
       "      <td>10.273848</td>\n",
       "      <td>70.0</td>\n",
       "      <td>78.25</td>\n",
       "      <td>85.5</td>\n",
       "      <td>93.0</td>\n",
       "      <td>109.0</td>\n",
       "    </tr>\n",
       "  </tbody>\n",
       "</table>\n",
       "</div>"
      ],
      "text/plain": [
       "        Altura (m)                                                       \\\n",
       "             count      mean       std   min    25%   50%     75%   max   \n",
       "Esporte                                                                   \n",
       "Futebol       23.0  1.813478  0.070878  1.63  1.765  1.81  1.8700  1.93   \n",
       "Vôlei         22.0  1.986818  0.081497  1.85  1.925  1.98  2.0475  2.14   \n",
       "\n",
       "        Peso (kg)                                                        \n",
       "            count       mean        std   min    25%   50%   75%    max  \n",
       "Esporte                                                                  \n",
       "Futebol      23.0  75.000000   7.537784  60.0  69.50  76.0  79.5   88.0  \n",
       "Vôlei        22.0  86.863636  10.273848  70.0  78.25  85.5  93.0  109.0  "
      ]
     },
     "execution_count": 3,
     "metadata": {},
     "output_type": "execute_result"
    }
   ],
   "source": [
    "df.groupby('Esporte').describe()"
   ]
  },
  {
   "cell_type": "markdown",
   "id": "97505077-4db8-451f-ab40-67083fbebdb1",
   "metadata": {},
   "source": [
    "A partir das estatísticas calculadas para cada grupo, podemos verificar que a média da altura é bem diferente entre os jogadores de Futebol e Vôlei, sendo maior que 2 desvios-padrão (do Vôlei, que apresentou o maior desvio-padrão), o que sugere que estas 2 classes podem ser separadas linearmente pela característica altura. Analisando o peso médio entre os grupos também percebemos que há uma certa diferença, embora possívelmente não é estatisticamente significativa."
   ]
  },
  {
   "cell_type": "markdown",
   "id": "04283dbe-5da0-4548-9eb8-426f71bf28d2",
   "metadata": {},
   "source": [
    "## Histograma"
   ]
  },
  {
   "cell_type": "markdown",
   "id": "16841e60-a90c-4994-a931-116c059af3c7",
   "metadata": {},
   "source": [
    "As características peso e altura são variáveis contínuas. Para compreender melhor a distribuição de uma característica podemos usar um histograma, que discretiza a distribuição dos valores em \"baldes\". Cada \"balde\" representa um intervalo dos valores e possui a contagem dos valores que estão naquele intervalo. Cada \"balde\" é representado por um gráfico de barras."
   ]
  },
  {
   "cell_type": "code",
   "execution_count": 4,
   "id": "f2fed932-8980-4afe-8952-cbf622722500",
   "metadata": {},
   "outputs": [
    {
     "data": {
      "image/png": "[encoded data removed]",
      "text/plain": [
       "<Figure size 576x288 with 2 Axes>"
      ]
     },
     "metadata": {
      "needs_background": "light"
     },
     "output_type": "display_data"
    }
   ],
   "source": [
    "fig, axes = plt.subplots(nrows=1, ncols=2, figsize=(8,4))\n",
    "sns.histplot(data=df, bins=10, x='Altura (m)', hue='Esporte', multiple='dodge', shrink=0.8, ax=axes[0])\n",
    "sns.histplot(data=df, bins=10, x='Peso (kg)', hue='Esporte', multiple='dodge', shrink=0.8,ax=axes[1])\n",
    "plt.show()"
   ]
  },
  {
   "cell_type": "markdown",
   "id": "1f785106-f97f-4c86-9279-1ad9f71d7b37",
   "metadata": {},
   "source": [
    "O histograma da altura nos mostra que claramente a maioria dos jogadores de Futebol (em laranja) são mais baixos que os jogadores de Vôlei, embora haja alguns casos que esta observação não seja verdadeira. Entretanto, o histograma da característica peso mostra que embora os jogadores mais leves tendem a ser jogadores de Futebol e os mais pesados tendem a ser jogadores de Vôlei, há uma grande interseção dos dois grupos no intervalo entre 70 e 90kg, onde encontram-se a maior parte dos jogadores de ambos os esportes.\n",
    "\n",
    "A partir destas observações, parece que a característica que separa melhor as duas classes é a altura."
   ]
  },
  {
   "cell_type": "markdown",
   "id": "66dc2ace-f9e8-46d9-8b6d-ea59ee1f4918",
   "metadata": {},
   "source": [
    "## Scatterplot (gráfico de pontos)\n",
    "\n",
    "Uma outra forma de conhecer o conjunto de dados é por meio de visualizações. Com estas ferramentas é possível ter uma idéia da separabilidade entre as classes e quais características que podem ser úteis para separá-las.\n",
    "\n",
    "Como os objetos que queremos classificar tem apenas 2 características de entrada, é possível visualizá-los em um plano cartesiano 2D, onde cada característica é representada por um eixo coordenado. Para identificar cada ponto com sua classe podemos usar cores diferentes para cada uma."
   ]
  },
  {
   "cell_type": "code",
   "execution_count": 5,
   "id": "77dda726-c09b-4a32-b061-eab897bb0b05",
   "metadata": {},
   "outputs": [
    {
     "data": {
      "image/png": "[encoded data removed]",
      "text/plain": [
       "<Figure size 576x288 with 1 Axes>"
      ]
     },
     "metadata": {
      "needs_background": "light"
     },
     "output_type": "display_data"
    }
   ],
   "source": [
    "plt.figure(figsize=(8,4))\n",
    "sns.scatterplot(data=df, x='Peso (kg)', y='Altura (m)', hue='Esporte')\n",
    "plt.show()"
   ]
  },
  {
   "cell_type": "markdown",
   "id": "33f5db72-dfc0-4e11-b096-c805f189596f",
   "metadata": {},
   "source": [
    "Conforme esperado, podemos ver que a característica altura separa melhor as duas classes que queremos separar. Embora não dê para separar perfeitamente as 2 classes a partir da altura, podemos ver que é possível separar os 2 conjuntos razoavelmente bem traçando uma reta em ``altura=1,90``:"
   ]
  },
  {
   "cell_type": "code",
   "execution_count": 2,
   "id": "2b905731-4b77-4575-a7da-7e15b19a67a0",
   "metadata": {},
   "outputs": [
    {
     "ename": "NameError",
     "evalue": "name 'plt' is not defined",
     "output_type": "error",
     "traceback": [
      "\u001b[0;31m---------------------------------------------------------------------------\u001b[0m",
      "\u001b[0;31mNameError\u001b[0m                                 Traceback (most recent call last)",
      "\u001b[0;32m<ipython-input-2-b80afa19023e>\u001b[0m in \u001b[0;36m<module>\u001b[0;34m\u001b[0m\n\u001b[0;32m----> 1\u001b[0;31m \u001b[0mplt\u001b[0m\u001b[0;34m.\u001b[0m\u001b[0mfigure\u001b[0m\u001b[0;34m(\u001b[0m\u001b[0mfigsize\u001b[0m\u001b[0;34m=\u001b[0m\u001b[0;34m(\u001b[0m\u001b[0;36m8\u001b[0m\u001b[0;34m,\u001b[0m\u001b[0;36m4\u001b[0m\u001b[0;34m)\u001b[0m\u001b[0;34m)\u001b[0m\u001b[0;34m\u001b[0m\u001b[0;34m\u001b[0m\u001b[0m\n\u001b[0m\u001b[1;32m      2\u001b[0m \u001b[0msns\u001b[0m\u001b[0;34m.\u001b[0m\u001b[0mscatterplot\u001b[0m\u001b[0;34m(\u001b[0m\u001b[0mdata\u001b[0m\u001b[0;34m=\u001b[0m\u001b[0mdf\u001b[0m\u001b[0;34m,\u001b[0m \u001b[0mx\u001b[0m\u001b[0;34m=\u001b[0m\u001b[0;34m'Peso (kg)'\u001b[0m\u001b[0;34m,\u001b[0m \u001b[0my\u001b[0m\u001b[0;34m=\u001b[0m\u001b[0;34m'Altura (m)'\u001b[0m\u001b[0;34m,\u001b[0m \u001b[0mhue\u001b[0m\u001b[0;34m=\u001b[0m\u001b[0;34m'Esporte'\u001b[0m\u001b[0;34m)\u001b[0m\u001b[0;34m\u001b[0m\u001b[0;34m\u001b[0m\u001b[0m\n\u001b[1;32m      3\u001b[0m \u001b[0mplt\u001b[0m\u001b[0;34m.\u001b[0m\u001b[0maxhline\u001b[0m\u001b[0;34m(\u001b[0m\u001b[0;36m1.9\u001b[0m\u001b[0;34m,\u001b[0m \u001b[0mcolor\u001b[0m\u001b[0;34m=\u001b[0m\u001b[0;34m'red'\u001b[0m\u001b[0;34m,\u001b[0m \u001b[0mlabel\u001b[0m\u001b[0;34m=\u001b[0m\u001b[0;34m'Limiar'\u001b[0m\u001b[0;34m)\u001b[0m\u001b[0;34m\u001b[0m\u001b[0;34m\u001b[0m\u001b[0m\n\u001b[1;32m      4\u001b[0m \u001b[0mplt\u001b[0m\u001b[0;34m.\u001b[0m\u001b[0mlegend\u001b[0m\u001b[0;34m(\u001b[0m\u001b[0;34m)\u001b[0m\u001b[0;34m\u001b[0m\u001b[0;34m\u001b[0m\u001b[0m\n\u001b[1;32m      5\u001b[0m \u001b[0mplt\u001b[0m\u001b[0;34m.\u001b[0m\u001b[0mshow\u001b[0m\u001b[0;34m(\u001b[0m\u001b[0;34m)\u001b[0m\u001b[0;34m\u001b[0m\u001b[0;34m\u001b[0m\u001b[0m\n",
      "\u001b[0;31mNameError\u001b[0m: name 'plt' is not defined"
     ]
    }
   ],
   "source": [
    "plt.figure(figsize=(8,4))\n",
    "sns.scatterplot(data=df, x='Peso (kg)', y='Altura (m)', hue='Esporte')\n",
    "plt.axhline(1.9, color='red', label='Limiar')\n",
    "plt.legend()\n",
    "plt.show()"
   ]
  },
  {
   "cell_type": "markdown",
   "id": "bf66ddc6-d060-4a12-bef1-43d3d6a60071",
   "metadata": {},
   "source": [
    "O limiar *1,9* para a altura separa o espaço vetorial em duas regiões: o espaço que representa jogadores de futebol e o espaço que representa jogadores de Vôlei. Este valor não foi escolhido ao acaso: a idéia é encontrar o valor que **melhor separa** os dois conjuntos de pontos, ou seja, que minimize o erro de predição."
   ]
  },
  {
   "cell_type": "markdown",
   "id": "f02cf9df-4bec-42ab-85ca-37695842d36f",
   "metadata": {},
   "source": [
    "# Classificador\n",
    "\n",
    "Um classificador pode ser modelado matematicamente como uma função n-dimendional cujos argumentos são as características e a saída é um rótulo. Dado $\\mathbf{x} \\in \\mathbb{R}^n$, onde $n$ é o número de características, e $C = \\{c_0, c_1, \\dots, c_m\\}$ um conjunto de rótulos,  um classificador é uma função:\n",
    "\n",
    "$$f: \\mathbb{R}^n \\mapsto C$$\n",
    "\n",
    "## Exemplo de classificador por limiar\n",
    "\n",
    "No caso do problema que estamos trabalhando, $\\mathbf{x} \\in \\mathbb{R}^2$, onde a primeira de dimensão de $\\mathbf{x}$ é a altura do jogador, e a segunda é o peso. Note que **x** é um vetor, tal qual aquele estudado em álgebra linear. Distinguimos entre vetores e escalares escrevendo vetores em **negrito**. O conjunto dos rótulos $C$ é dado pelos 2 esportes que temos na base de dados: $C = ${Futebol, Vôlei}. Usando o limiar 1,9 para a característica *altura* e considerando o espaço visualizado no *scatterplot*, temos um classificador:\n",
    "\n",
    "$$\n",
    "f(\\mathbf{x}) = \n",
    "\\begin{cases}\n",
    "    Futebol & \\text{se } x[0] \\leq 1,9 \\\\\n",
    "    Volei   & \\text{se } x[0] \\gt 1,9\n",
    "\\end{cases}\n",
    "$$\n",
    "\n",
    "Note que este classificador utiliza apenas uma das 2 características (*altura*, que está na posição 0 do vetor **x**) para fazer a predição. Mais adiante iremos explorar como podemos combinar multiplas características.\n"
   ]
  },
  {
   "cell_type": "code",
   "execution_count": 7,
   "id": "27b48a64-4c4f-4ee7-9bc2-12017866888e",
   "metadata": {},
   "outputs": [],
   "source": [
    "def classificador_limiar(limiar, dados, rotulos=('Futebol', 'Vôlei')):\n",
    "    resposta = []   \n",
    "    for idx, dado in dados.iterrows():\n",
    "        if dado[0] <= limiar:\n",
    "            resposta.append(rotulos[0])\n",
    "        else:\n",
    "            resposta.append(rotulos[1])\n",
    "    return pd.DataFrame(resposta, columns=['Esporte'])\n",
    "\n",
    "#A implementação a seguir é mais eficiente e tem o mesmo resultado\n",
    "# def classificador_limiar(limiar, dados, rotulos=('Futebol', 'Vôlei')):\n",
    "#     def f(dado):\n",
    "#         return rotulos[0] if dado[0] <= limiar else rotulos[1]\n",
    "#     resposta = dados.apply(f, axis=1)\n",
    "#     return resposta\n",
    "    \n",
    "    "
   ]
  },
  {
   "cell_type": "code",
   "execution_count": 8,
   "id": "33a8c0c1-a402-4a38-bc26-ae2c0d0494fc",
   "metadata": {},
   "outputs": [
    {
     "name": "stdout",
     "output_type": "stream",
     "text": [
      "Futebol, Vôlei, Vôlei, Futebol, Vôlei, Vôlei, Vôlei, Vôlei, Vôlei, Vôlei, Vôlei, Vôlei, Vôlei, Futebol, Vôlei, Vôlei, Futebol, Vôlei, Vôlei, Vôlei, Vôlei, Futebol, Futebol, Futebol, Vôlei, Futebol, Futebol, Futebol, Futebol, Futebol, Futebol, Futebol, Futebol, Futebol, Futebol, Futebol, Futebol, Futebol, Futebol, Futebol, Futebol, Futebol, Futebol, Futebol, Futebol, "
     ]
    }
   ],
   "source": [
    "predicoes = classificador_limiar(1.9, df[['Altura (m)', 'Peso (kg)']])\n",
    "for p in predicoes.values.flatten():\n",
    "    print(p, end=\", \")"
   ]
  },
  {
   "cell_type": "markdown",
   "id": "e13ea9a0-80b1-4a89-9d3d-8ae8798db354",
   "metadata": {},
   "source": [
    "# Verificando o desempenho do classificador\n",
    "\n",
    "É necessário medir o desempenho do classificador desenvolvido para ter uma idéia de sua assertividade."
   ]
  },
  {
   "cell_type": "code",
   "execution_count": 9,
   "id": "62187890-ecad-4ce9-a09e-e13baf940a62",
   "metadata": {},
   "outputs": [
    {
     "name": "stdout",
     "output_type": "stream",
     "text": [
      "['Vôlei' 'Futebol']\n",
      "['Vôlei' 'Vôlei']\n",
      "['Vôlei' 'Vôlei']\n",
      "['Vôlei' 'Futebol']\n",
      "['Vôlei' 'Vôlei']\n",
      "['Vôlei' 'Vôlei']\n",
      "['Vôlei' 'Vôlei']\n",
      "['Vôlei' 'Vôlei']\n",
      "['Vôlei' 'Vôlei']\n",
      "['Vôlei' 'Vôlei']\n",
      "['Vôlei' 'Vôlei']\n",
      "['Vôlei' 'Vôlei']\n",
      "['Vôlei' 'Vôlei']\n",
      "['Vôlei' 'Futebol']\n",
      "['Vôlei' 'Vôlei']\n",
      "['Vôlei' 'Vôlei']\n",
      "['Vôlei' 'Futebol']\n",
      "['Vôlei' 'Vôlei']\n",
      "['Vôlei' 'Vôlei']\n",
      "['Vôlei' 'Vôlei']\n",
      "['Vôlei' 'Vôlei']\n",
      "['Vôlei' 'Futebol']\n",
      "['Futebol' 'Futebol']\n",
      "['Futebol' 'Futebol']\n",
      "['Futebol' 'Vôlei']\n",
      "['Futebol' 'Futebol']\n",
      "['Futebol' 'Futebol']\n",
      "['Futebol' 'Futebol']\n",
      "['Futebol' 'Futebol']\n",
      "['Futebol' 'Futebol']\n",
      "['Futebol' 'Futebol']\n",
      "['Futebol' 'Futebol']\n",
      "['Futebol' 'Futebol']\n",
      "['Futebol' 'Futebol']\n",
      "['Futebol' 'Futebol']\n",
      "['Futebol' 'Futebol']\n",
      "['Futebol' 'Futebol']\n",
      "['Futebol' 'Futebol']\n",
      "['Futebol' 'Futebol']\n",
      "['Futebol' 'Futebol']\n",
      "['Futebol' 'Futebol']\n",
      "['Futebol' 'Futebol']\n",
      "['Futebol' 'Futebol']\n",
      "['Futebol' 'Futebol']\n",
      "['Futebol' 'Futebol']\n"
     ]
    }
   ],
   "source": [
    "#imprimir os esportes da base de dados, juntamente com as predições\n",
    "predicoes = classificador_limiar(1.9, df[['Altura (m)', 'Peso (kg)']])\n",
    "for i in np.vstack([df['Esporte'].values, predicoes['Esporte'].values]).T:\n",
    "    print(i)"
   ]
  },
  {
   "cell_type": "markdown",
   "id": "e6259066-778d-4e69-8b80-a3448fab551b",
   "metadata": {},
   "source": [
    "## Acurácia\n",
    "\n",
    "Existem muitas medidas de desempenho de classificadores. Estas medidas são comumente conhecidas como métricas. Uma das métricas mais simples e intuitivas de classificação é chamada de **acurácia**. A acurácia é dada por:\n",
    "\n",
    "$$\n",
    "    \\text{Acurácia} = \\frac{\\text{acertos}}{\\text{total de instâncias}}\n",
    "$$\n",
    "\n",
    "Para contabilizar o número de acertos é necessário conhecer o gabarito (*ground-truth*) dos resultados. No caso da base de dados de jogadores de futebol e vôlei, o gabarito é o esporte que sabemos que determinada pessoa pratica. A seguir, temos uma função"
   ]
  },
  {
   "cell_type": "code",
   "execution_count": 10,
   "id": "f91d0085-2ec0-4552-bfd6-46475876dd0c",
   "metadata": {},
   "outputs": [],
   "source": [
    "def comparar_resultados(predicoes, gabarito, rotulo):\n",
    "    predicoes = predicoes.values\n",
    "    gabarito = gabarito.values\n",
    "    acertos = 0\n",
    "    erros = 0\n",
    "    for i, gab in enumerate(gabarito):\n",
    "        if gab == rotulo:\n",
    "            if gab == predicoes[i]:\n",
    "                acertos+=1\n",
    "            else:\n",
    "                erros+=1\n",
    "    return acertos, erros"
   ]
  },
  {
   "cell_type": "code",
   "execution_count": 11,
   "id": "5f2972ba-0321-4b86-8adc-a69efdb7cff4",
   "metadata": {},
   "outputs": [
    {
     "name": "stdout",
     "output_type": "stream",
     "text": [
      "(Futebol) Acertos e Erros: (22, 1)\n",
      "(Vôlei) Acertos e Erros: (17, 5)\n"
     ]
    }
   ],
   "source": [
    "resultados_futebol = comparar_resultados(predicoes['Esporte'], df['Esporte'], 'Futebol')\n",
    "resultados_volei = comparar_resultados(predicoes['Esporte'], df['Esporte'], 'Vôlei')\n",
    "\n",
    "print(\"(Futebol) Acertos e Erros:\", resultados_futebol)\n",
    "print(\"(Vôlei) Acertos e Erros:\", resultados_volei)"
   ]
  },
  {
   "cell_type": "markdown",
   "id": "877915d1-2b95-47b7-9475-49bccfff7adc",
   "metadata": {},
   "source": [
    "Nota-se que proporcionalmente o classificador acertou mais os jogadores de futebol do que os jogadores de vôlei. Agora vamos calcular a acurácia do classificador para cada classe separadamente, e depois para o classificador de um modo geral. A vantagem da acurácia é que vamos ter um único número que vai nos descrever cada um destes cenários."
   ]
  },
  {
   "cell_type": "code",
   "execution_count": 12,
   "id": "9acbd35b-5826-4835-99c9-7e4e1529c7f6",
   "metadata": {},
   "outputs": [
    {
     "name": "stdout",
     "output_type": "stream",
     "text": [
      "Acurácia (Futebol): 0.957\n",
      "Acurácia (Vôlei): 0.773\n",
      "Acurácia (Total): 0.867\n"
     ]
    }
   ],
   "source": [
    "def acuracia(acertos, total_instancias):\n",
    "    return acertos / total_instancias\n",
    "\n",
    "print(\"Acurácia (Futebol): %.3f\" % (acuracia(resultados_futebol[0], resultados_futebol[0] + resultados_futebol[1]) ))\n",
    "print(\"Acurácia (Vôlei): %.3f\" % (acuracia(resultados_volei[0], resultados_volei[0] + resultados_volei[1]) ))\n",
    "total_de_instancias = len(predicoes)\n",
    "print(\"Acurácia (Total): %.3f\" % (acuracia(resultados_futebol[0] + resultados_volei[0], total_de_instancias) ))"
   ]
  },
  {
   "cell_type": "code",
   "execution_count": 13,
   "id": "2571234a-e97d-4fe8-8a60-180a8f69f68f",
   "metadata": {},
   "outputs": [
    {
     "name": "stdout",
     "output_type": "stream",
     "text": [
      "Acurácia (Total) 0.867\n"
     ]
    }
   ],
   "source": [
    "# A biblioteca sklearn tem várias métricas implementadas que iremos estudar durante o curso.\n",
    "from sklearn.metrics import accuracy_score\n",
    "print(\"Acurácia (Total) %.3f\" % (accuracy_score(df['Esporte'], predicoes['Esporte'])))"
   ]
  },
  {
   "cell_type": "markdown",
   "id": "29252744-0701-44f6-8437-9dcccf2108fe",
   "metadata": {},
   "source": [
    "O desempenho do classificador é diretamente relacionado com seus parâmetros. No caso do exemplo, o parâmetro do classificador é o limiar. \n",
    "\n",
    "Nós decidimos um valor para este limiar com base nas observações dos dados. Como o parâmetro do classificador foi escolhido manualmente, não podemos dizer que houve aprendizado de máquina até aqui.\n",
    "\n",
    "Qual é o papel da aprendizagem neste contexto? \"Aprender\" significa encontrar um limar cada vez melhor, ou seja, otimizar o limiar de forma que o classificador erre o mínimo possível considerando suas limitações."
   ]
  },
  {
   "cell_type": "markdown",
   "id": "e4148513-f999-4e97-8b75-58f6cd23c966",
   "metadata": {},
   "source": [
    "# Aprendizado do limiar por busca exaustiva"
   ]
  },
  {
   "cell_type": "markdown",
   "id": "20a35c3e-8dbb-455e-b356-b3d28485efd8",
   "metadata": {},
   "source": [
    "O algoritmo de aprendizado mais simples realiza uma busca exaustiva pelos parâmetros que otimizem alguma métrica. Esta técnica se chama busca exaustiva, ou busca em grade (*grid-search*). No exemplo que estamos estudando, a busca exaustiva testa uma lista de todos os limiares possíveis dentro de um intervalo, e retorna o limiar que maximiza a métrica de desempenho (como a acurácia, por exemplo)."
   ]
  },
  {
   "cell_type": "code",
   "execution_count": 14,
   "id": "4e365924-44f4-43e3-9f0c-0a490dd121c7",
   "metadata": {},
   "outputs": [
    {
     "name": "stdout",
     "output_type": "stream",
     "text": [
      "Melhor limiar: 1.891, Melhor Acurácia: 0.911\n"
     ]
    },
    {
     "data": {
      "image/png": "[encoded data removed]",
      "text/plain": [
       "<Figure size 576x288 with 1 Axes>"
      ]
     },
     "metadata": {
      "needs_background": "light"
     },
     "output_type": "display_data"
    }
   ],
   "source": [
    "n_limiares = 100\n",
    "limiares = np.linspace(1.6, 2.2, n_limiares)\n",
    "acuracias = []\n",
    "\n",
    "melhor_limiar = limiares[0]\n",
    "melhor_acuracia = 0\n",
    "\n",
    "dados = df[['Altura (m)', 'Peso (kg)']]\n",
    "\n",
    "for limiar in limiares:\n",
    "    predicoes = classificador_limiar(limiar, dados)\n",
    "    \n",
    "    acuracia = accuracy_score(df['Esporte'], predicoes['Esporte'])\n",
    "    acuracias.append(acuracia)\n",
    "    \n",
    "    if acuracia > melhor_acuracia:\n",
    "        melhor_acuracia = acuracia\n",
    "        melhor_limiar = limiar\n",
    "\n",
    "print(\"Melhor limiar: %.3f, Melhor Acurácia: %.3f\" % (melhor_limiar, melhor_acuracia))\n",
    "\n",
    "fig, axes = plt.subplots(figsize=(8,4))\n",
    "axes.plot(limiares, acuracias)\n",
    "axes.axvline(melhor_limiar, color='red')\n",
    "axes.set_xlabel('Limiar')\n",
    "axes.set_ylabel('Acurácia')\n",
    "plt.show()"
   ]
  },
  {
   "cell_type": "markdown",
   "id": "dceb81bd-09dc-4e1d-9c5a-954f13e74e3c",
   "metadata": {},
   "source": [
    "A busca exaustiva pode encontrar bons resultados, mas depende da realização da classificação muitas vezes. A quantidade de vezes aumenta proporcionalmente a quantidade de valores a serem avaliados. No exemplo, avaliamos ``n_limiares`` valores linearmente espaçados entre 1,6 e 2,2. Quanto maior ``n_limiares`` maior a probabilidade de encontrar a melhor solução possível (a solução ótima). Entretanto, o custo da busca aumenta proporcionalmente.\n",
    "\n",
    "Esta abordagem na maioria das vezes não é viável, uma vez que os modelos usados na prática possuem muitos parâmetros que apenas um limiar. Com muitos parametros para otimizar em conjunto, o custo computacional aumenta exponencialmente, o que inviabiliza este método. O foco do nosso curso não é estudar os algoritmos de otimização, entretanto é importante compreender que existem técnicas mais eficientes para encontrar soluções que são viáveis, mas que nem sempre encontram a melhor solução possível."
   ]
  },
  {
   "cell_type": "markdown",
   "id": "ebb73e5c-8a14-44b8-8da7-d4ebec28b95f",
   "metadata": {},
   "source": [
    "# E a generalização?\n",
    "\n",
    "<!-- Propositalmente deixei uma falha grave no método de avaliação do classificador.  -->\n",
    "\n",
    "Quando um professor verifica se um aluno aprendeu um conteúdo, ao invés de apenas decorá-lo, avalia se o aluno é capaz de resolver um exercício parecido, mas que não foi explicitamente resolvido na sala de aula ou foi passado nas listas de exercícios. Isto porque **aprender é diferente de decorar**.\n",
    "\n",
    "Um aprendizado bem-sucedido permite resolver problemas cujas soluções não foram explicitamente mostradas anteriormente. Em outras palavras, o aprendizado bem-sucedido implica em **generalização**.\n",
    "\n",
    "A avaliação da classificação que fizemos nesta aula não avalia a generalização. Portanto, não há garantia que este classificador será suficientemente robusto para classificar **dados de jogadores que não foram usados no processo de aprendizagem**. Na próxima aula vamos estudar como podemos avaliar a capacidade de generalização de um classificador.\n",
    "\n"
   ]
  },
  {
   "cell_type": "code",
   "execution_count": null,
   "id": "3521858f-a0e6-47fd-a6b4-6b3ce69b7b06",
   "metadata": {},
   "outputs": [],
   "source": []
  }
 ],
 "metadata": {
  "kernelspec": {
   "display_name": "Python 3",
   "language": "python",
   "name": "python3"
  },
  "language_info": {
   "codemirror_mode": {
    "name": "ipython",
    "version": 3
   },
   "file_extension": ".py",
   "mimetype": "text/x-python",
   "name": "python",
   "nbconvert_exporter": "python",
   "pygments_lexer": "ipython3",
   "version": "3.8.8"
  }
 },
 "nbformat": 4,
 "nbformat_minor": 5
}
