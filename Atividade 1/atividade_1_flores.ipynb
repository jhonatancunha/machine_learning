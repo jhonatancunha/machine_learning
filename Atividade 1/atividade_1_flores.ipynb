{
 "cells": [
  {
   "cell_type": "code",
   "execution_count": 1,
   "id": "dc7f21bb-9bd6-4396-b884-fd0fb87fe008",
   "metadata": {},
   "outputs": [],
   "source": [
    "import matplotlib.pyplot as plt\n",
    "import pandas as pd\n",
    "import numpy as np\n",
    "import seaborn as sns\n",
    "from sklearn.metrics import accuracy_score\n",
    "from sklearn.model_selection import train_test_split\n",
    "\n",
    "\n",
    "%matplotlib inline"
   ]
  },
  {
   "cell_type": "code",
   "execution_count": 2,
   "id": "bae08ce7-8a4c-4010-b53c-3400ecacc25e",
   "metadata": {},
   "outputs": [
    {
     "data": {
      "text/html": [
       "<div>\n",
       "<style scoped>\n",
       "    .dataframe tbody tr th:only-of-type {\n",
       "        vertical-align: middle;\n",
       "    }\n",
       "\n",
       "    .dataframe tbody tr th {\n",
       "        vertical-align: top;\n",
       "    }\n",
       "\n",
       "    .dataframe thead th {\n",
       "        text-align: right;\n",
       "    }\n",
       "</style>\n",
       "<table border=\"1\" class=\"dataframe\">\n",
       "  <thead>\n",
       "    <tr style=\"text-align: right;\">\n",
       "      <th></th>\n",
       "      <th>sepal length (cm)</th>\n",
       "      <th>sepal width (cm)</th>\n",
       "      <th>petal length (cm)</th>\n",
       "      <th>petal width (cm)</th>\n",
       "      <th>especie</th>\n",
       "    </tr>\n",
       "  </thead>\n",
       "  <tbody>\n",
       "    <tr>\n",
       "      <th>0</th>\n",
       "      <td>7.0</td>\n",
       "      <td>3.2</td>\n",
       "      <td>4.7</td>\n",
       "      <td>1.4</td>\n",
       "      <td>versicolor</td>\n",
       "    </tr>\n",
       "    <tr>\n",
       "      <th>1</th>\n",
       "      <td>6.4</td>\n",
       "      <td>3.2</td>\n",
       "      <td>4.5</td>\n",
       "      <td>1.5</td>\n",
       "      <td>versicolor</td>\n",
       "    </tr>\n",
       "    <tr>\n",
       "      <th>2</th>\n",
       "      <td>6.9</td>\n",
       "      <td>3.1</td>\n",
       "      <td>4.9</td>\n",
       "      <td>1.5</td>\n",
       "      <td>versicolor</td>\n",
       "    </tr>\n",
       "    <tr>\n",
       "      <th>3</th>\n",
       "      <td>5.5</td>\n",
       "      <td>2.3</td>\n",
       "      <td>4.0</td>\n",
       "      <td>1.3</td>\n",
       "      <td>versicolor</td>\n",
       "    </tr>\n",
       "    <tr>\n",
       "      <th>4</th>\n",
       "      <td>6.5</td>\n",
       "      <td>2.8</td>\n",
       "      <td>4.6</td>\n",
       "      <td>1.5</td>\n",
       "      <td>versicolor</td>\n",
       "    </tr>\n",
       "  </tbody>\n",
       "</table>\n",
       "</div>"
      ],
      "text/plain": [
       "   sepal length (cm)  sepal width (cm)  petal length (cm)  petal width (cm)  \\\n",
       "0                7.0               3.2                4.7               1.4   \n",
       "1                6.4               3.2                4.5               1.5   \n",
       "2                6.9               3.1                4.9               1.5   \n",
       "3                5.5               2.3                4.0               1.3   \n",
       "4                6.5               2.8                4.6               1.5   \n",
       "\n",
       "      especie  \n",
       "0  versicolor  \n",
       "1  versicolor  \n",
       "2  versicolor  \n",
       "3  versicolor  \n",
       "4  versicolor  "
      ]
     },
     "execution_count": 2,
     "metadata": {},
     "output_type": "execute_result"
    }
   ],
   "source": [
    "df = pd.read_csv('iris_2class.csv')\n",
    "df.head()"
   ]
  },
  {
   "cell_type": "code",
   "execution_count": 4,
   "id": "c8c5014a-242d-4061-b732-27d3017a4e95",
   "metadata": {
    "tags": []
   },
   "outputs": [
    {
     "data": {
      "text/html": [
       "<div>\n",
       "<style scoped>\n",
       "    .dataframe tbody tr th:only-of-type {\n",
       "        vertical-align: middle;\n",
       "    }\n",
       "\n",
       "    .dataframe tbody tr th {\n",
       "        vertical-align: top;\n",
       "    }\n",
       "\n",
       "    .dataframe thead tr th {\n",
       "        text-align: left;\n",
       "    }\n",
       "\n",
       "    .dataframe thead tr:last-of-type th {\n",
       "        text-align: right;\n",
       "    }\n",
       "</style>\n",
       "<table border=\"1\" class=\"dataframe\">\n",
       "  <thead>\n",
       "    <tr>\n",
       "      <th></th>\n",
       "      <th colspan=\"8\" halign=\"left\">sepal length (cm)</th>\n",
       "      <th colspan=\"2\" halign=\"left\">sepal width (cm)</th>\n",
       "      <th>...</th>\n",
       "      <th colspan=\"2\" halign=\"left\">petal length (cm)</th>\n",
       "      <th colspan=\"8\" halign=\"left\">petal width (cm)</th>\n",
       "    </tr>\n",
       "    <tr>\n",
       "      <th></th>\n",
       "      <th>count</th>\n",
       "      <th>mean</th>\n",
       "      <th>std</th>\n",
       "      <th>min</th>\n",
       "      <th>25%</th>\n",
       "      <th>50%</th>\n",
       "      <th>75%</th>\n",
       "      <th>max</th>\n",
       "      <th>count</th>\n",
       "      <th>mean</th>\n",
       "      <th>...</th>\n",
       "      <th>75%</th>\n",
       "      <th>max</th>\n",
       "      <th>count</th>\n",
       "      <th>mean</th>\n",
       "      <th>std</th>\n",
       "      <th>min</th>\n",
       "      <th>25%</th>\n",
       "      <th>50%</th>\n",
       "      <th>75%</th>\n",
       "      <th>max</th>\n",
       "    </tr>\n",
       "    <tr>\n",
       "      <th>especie</th>\n",
       "      <th></th>\n",
       "      <th></th>\n",
       "      <th></th>\n",
       "      <th></th>\n",
       "      <th></th>\n",
       "      <th></th>\n",
       "      <th></th>\n",
       "      <th></th>\n",
       "      <th></th>\n",
       "      <th></th>\n",
       "      <th></th>\n",
       "      <th></th>\n",
       "      <th></th>\n",
       "      <th></th>\n",
       "      <th></th>\n",
       "      <th></th>\n",
       "      <th></th>\n",
       "      <th></th>\n",
       "      <th></th>\n",
       "      <th></th>\n",
       "      <th></th>\n",
       "    </tr>\n",
       "  </thead>\n",
       "  <tbody>\n",
       "    <tr>\n",
       "      <th>versicolor</th>\n",
       "      <td>50.0</td>\n",
       "      <td>5.936</td>\n",
       "      <td>0.516171</td>\n",
       "      <td>4.9</td>\n",
       "      <td>5.600</td>\n",
       "      <td>5.9</td>\n",
       "      <td>6.3</td>\n",
       "      <td>7.0</td>\n",
       "      <td>50.0</td>\n",
       "      <td>2.770</td>\n",
       "      <td>...</td>\n",
       "      <td>4.600</td>\n",
       "      <td>5.1</td>\n",
       "      <td>50.0</td>\n",
       "      <td>1.326</td>\n",
       "      <td>0.197753</td>\n",
       "      <td>1.0</td>\n",
       "      <td>1.2</td>\n",
       "      <td>1.3</td>\n",
       "      <td>1.5</td>\n",
       "      <td>1.8</td>\n",
       "    </tr>\n",
       "    <tr>\n",
       "      <th>virginica</th>\n",
       "      <td>50.0</td>\n",
       "      <td>6.588</td>\n",
       "      <td>0.635880</td>\n",
       "      <td>4.9</td>\n",
       "      <td>6.225</td>\n",
       "      <td>6.5</td>\n",
       "      <td>6.9</td>\n",
       "      <td>7.9</td>\n",
       "      <td>50.0</td>\n",
       "      <td>2.974</td>\n",
       "      <td>...</td>\n",
       "      <td>5.875</td>\n",
       "      <td>6.9</td>\n",
       "      <td>50.0</td>\n",
       "      <td>2.026</td>\n",
       "      <td>0.274650</td>\n",
       "      <td>1.4</td>\n",
       "      <td>1.8</td>\n",
       "      <td>2.0</td>\n",
       "      <td>2.3</td>\n",
       "      <td>2.5</td>\n",
       "    </tr>\n",
       "  </tbody>\n",
       "</table>\n",
       "<p>2 rows × 32 columns</p>\n",
       "</div>"
      ],
      "text/plain": [
       "           sepal length (cm)                                              \\\n",
       "                       count   mean       std  min    25%  50%  75%  max   \n",
       "especie                                                                    \n",
       "versicolor              50.0  5.936  0.516171  4.9  5.600  5.9  6.3  7.0   \n",
       "virginica               50.0  6.588  0.635880  4.9  6.225  6.5  6.9  7.9   \n",
       "\n",
       "           sepal width (cm)         ... petal length (cm)       \\\n",
       "                      count   mean  ...               75%  max   \n",
       "especie                             ...                          \n",
       "versicolor             50.0  2.770  ...             4.600  5.1   \n",
       "virginica              50.0  2.974  ...             5.875  6.9   \n",
       "\n",
       "           petal width (cm)                                            \n",
       "                      count   mean       std  min  25%  50%  75%  max  \n",
       "especie                                                                \n",
       "versicolor             50.0  1.326  0.197753  1.0  1.2  1.3  1.5  1.8  \n",
       "virginica              50.0  2.026  0.274650  1.4  1.8  2.0  2.3  2.5  \n",
       "\n",
       "[2 rows x 32 columns]"
      ]
     },
     "execution_count": 4,
     "metadata": {},
     "output_type": "execute_result"
    }
   ],
   "source": [
    "# Calcule as estatísticas descritivas de cada um dos atributos (características) agrupando por espécie;\n",
    "df.groupby('especie').describe()"
   ]
  },
  {
   "cell_type": "code",
   "execution_count": 3,
   "id": "4b46083e-2a61-4b15-9591-ee3065db44ad",
   "metadata": {},
   "outputs": [
    {
     "data": {
      "image/png": "[encoded data removed]",
      "text/plain": [
       "<Figure size 1440x288 with 4 Axes>"
      ]
     },
     "metadata": {
      "needs_background": "light"
     },
     "output_type": "display_data"
    }
   ],
   "source": [
    "# Faça um histograma para cada atributo. Faça barras separadas para cada espécie de flor.\n",
    "fig, axes = plt.subplots(nrows=1, ncols=4, figsize=(20,4))\n",
    "sns.histplot(data=df, bins=10, x=\"sepal length (cm)\", hue=\"especie\", multiple=\"dodge\", shrink=0.8, ax=axes[0])\n",
    "sns.histplot(data=df, bins=10, x=\"sepal width (cm)\", hue=\"especie\", multiple=\"dodge\", shrink=0.8, ax=axes[1])\n",
    "sns.histplot(data=df, bins=10, x=\"petal length (cm)\", hue=\"especie\", multiple=\"dodge\", shrink=0.8, ax=axes[2])\n",
    "sns.histplot(data=df, bins=10, x=\"petal width (cm)\", hue=\"especie\", multiple=\"dodge\", shrink=0.8, ax=axes[3])\n",
    "plt.show()"
   ]
  },
  {
   "cell_type": "code",
   "execution_count": 20,
   "id": "78c43a9b-57de-4d20-a852-19a0aee7a985",
   "metadata": {},
   "outputs": [
    {
     "data": {
      "image/png": "[encoded data removed]",
      "text/plain": [
       "<Figure size 720x360 with 1 Axes>"
      ]
     },
     "metadata": {
      "needs_background": "light"
     },
     "output_type": "display_data"
    }
   ],
   "source": [
    "# Com base nos passos 1 e 2, faça scatterplots com os pares de atributos que parecerem ser os mais promissores para classificação das espécies.\n",
    "plt.figure(figsize=(10, 5))\n",
    "sns.scatterplot(data=df, y=\"petal width (cm)\", x=\"petal length (cm)\", hue=\"especie\")\n",
    "plt.legend()\n",
    "plt.show()\n"
   ]
  },
  {
   "cell_type": "markdown",
   "id": "4b58400c-5c18-4690-a26c-b42e3160b1bc",
   "metadata": {},
   "source": [
    "### Analisando o gráfico, escolhemos o atributo petal length"
   ]
  },
  {
   "cell_type": "code",
   "execution_count": 10,
   "id": "26e36872-434d-4c5b-8c2f-554818d4e227",
   "metadata": {},
   "outputs": [],
   "source": [
    "def classificador_limiar(limiar, dados, rotulos=('versicolor', 'virginica')):\n",
    "    resposta = []   \n",
    "    for idx, dado in dados.iterrows():\n",
    "        if dado[0] <= limiar: #petal length\n",
    "            resposta.append(rotulos[0])\n",
    "        else:\n",
    "            resposta.append(rotulos[1])\n",
    "    return pd.DataFrame(resposta, columns=['Flower'])"
   ]
  },
  {
   "cell_type": "markdown",
   "id": "81c22975-430f-43b9-8a11-2d9e1f57c1ec",
   "metadata": {},
   "source": [
    "### Executando busca exaustiva\n",
    "\n",
    "##### Faça uma busca exaustiva procurando maximizar a acurácia no conjunto de teste. Use 80% dos dados para o conjunto de treino e 20% para o conjunto de teste."
   ]
  },
  {
   "cell_type": "code",
   "execution_count": 11,
   "id": "f2ade8e0-188b-4820-8acd-316ed74b90d3",
   "metadata": {},
   "outputs": [],
   "source": [
    "def busca_exaustiva(n_limiares, atributos, rotulos, begin_range, end_range):\n",
    "    limiares = np.linspace(begin_range, end_range, n_limiares)\n",
    "\n",
    "    melhor_limiar = limiares[0]\n",
    "    melhor_acuracia = 0\n",
    "    \n",
    "    for limiar in limiares:\n",
    "        predicoes = classificador_limiar(limiar, atributos)\n",
    "        acuracia = accuracy_score(rotulos, predicoes['Flower'])\n",
    "    \n",
    "        if acuracia > melhor_acuracia:\n",
    "            melhor_acuracia = acuracia\n",
    "            melhor_limiar = limiar\n",
    "    \n",
    "    return melhor_acuracia, melhor_limiar\n",
    "\n",
    "\n"
   ]
  },
  {
   "cell_type": "code",
   "execution_count": 12,
   "id": "6a5751e6-040c-45dd-b4ee-e290deeeb4df",
   "metadata": {},
   "outputs": [
    {
     "name": "stdout",
     "output_type": "stream",
     "text": [
      "1.0 1.0 4.766666666666667\n"
     ]
    }
   ],
   "source": [
    "dados_para_separar = df[[\"petal length (cm)\", \"petal width (cm)\"]]\n",
    "\n",
    "X_treino, X_teste, y_treino, y_teste = train_test_split(dados_para_separar, df['especie'],\n",
    "                                                       test_size=0.2, stratify=df['especie'].tolist(),\n",
    "                                                       shuffle=True,\n",
    "                                                       random_state=10)\n",
    "\n",
    "melhor_acuracia, melhor_limiar = busca_exaustiva(10, X_teste, y_teste, 4.3, 5)\n",
    "predicoes = classificador_limiar(melhor_limiar, X_teste)\n",
    "acc_teste = accuracy_score(y_teste, predicoes['Flower'])\n",
    "\n",
    "print(melhor_acuracia, acc_teste, melhor_limiar)"
   ]
  },
  {
   "cell_type": "markdown",
   "id": "33d7492b-4047-4b97-9250-2c4ea72f2752",
   "metadata": {},
   "source": [
    "### Execute a busca exaustiva implementada no passo 5 com 20 particionamentos diferentes. Reporte a acurácia máxima e mínima obtida. Calcule a acurácia média e o desvio padrão."
   ]
  },
  {
   "cell_type": "code",
   "execution_count": 13,
   "id": "1d3e8a9a-b948-422b-b460-5e2ddfb3095b",
   "metadata": {},
   "outputs": [],
   "source": [
    "acuracias = []\n",
    "\n",
    "for i in range(20):\n",
    "    dados_para_separar = df[[\"petal length (cm)\", \"petal width (cm)\"]]\n",
    "    X_treino, X_teste, y_treino, y_teste = train_test_split(dados_para_separar, df['especie'],\n",
    "                                                        test_size=0.2,     \n",
    "                                                        stratify=df['especie'].tolist(),\n",
    "                                                        shuffle=True,\n",
    "                                                        random_state=i)\n",
    "\n",
    "    melhor_acuracia, melhor_limiar = busca_exaustiva(100, X_treino, y_treino, 4.3, 5.2)\n",
    "    \n",
    "    predicoes = classificador_limiar(melhor_limiar, X_teste)\n",
    "    acc = accuracy_score(y_teste, predicoes['Flower'])\n",
    "    acuracias.append(acc)\n",
    "    "
   ]
  },
  {
   "cell_type": "code",
   "execution_count": 19,
   "id": "5c8fbfb7-7ed3-4705-aa44-dc7ea789dffc",
   "metadata": {},
   "outputs": [
    {
     "name": "stdout",
     "output_type": "stream",
     "text": [
      " Minimo: 0.80\n",
      " Máximo: 1.00\n",
      " Média: 0.92\n",
      " Desvio Padrão: 0.05\n",
      "\n"
     ]
    }
   ],
   "source": [
    "minimo = np.min(acuracias)\n",
    "maximo = np.max(acuracias)\n",
    "media = np.mean(acuracias)\n",
    "desvio_padrao = np.std(acuracias)\n",
    "\n",
    "print(\" Minimo: %.2f\\n Máximo: %.2f\\n Média: %.2f\\n Desvio Padrão: %.2f\\n\" % (minimo, maximo, media, desvio_padrao))"
   ]
  },
  {
   "cell_type": "code",
   "execution_count": null,
   "id": "e5567933-0d7d-4073-8330-9f1527fc6c69",
   "metadata": {},
   "outputs": [],
   "source": []
  }
 ],
 "metadata": {
  "kernelspec": {
   "display_name": "Python 3",
   "language": "python",
   "name": "python3"
  },
  "language_info": {
   "codemirror_mode": {
    "name": "ipython",
    "version": 3
   },
   "file_extension": ".py",
   "mimetype": "text/x-python",
   "name": "python",
   "nbconvert_exporter": "python",
   "pygments_lexer": "ipython3",
   "version": "3.8.8"
  }
 },
 "nbformat": 4,
 "nbformat_minor": 5
}
