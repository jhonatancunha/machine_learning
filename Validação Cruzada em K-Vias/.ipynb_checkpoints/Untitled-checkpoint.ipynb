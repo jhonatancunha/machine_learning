{
 "cells": [
  {
   "cell_type": "markdown",
   "id": "6c2921e8-df94-4729-bdd2-06847a18ec95",
   "metadata": {},
   "source": [
    "# VALIDAÇÃO CRUZADA EM K-VIAS"
   ]
  },
  {
   "cell_type": "code",
   "execution_count": 1,
   "id": "0e1bcc27-7683-46a9-bb60-8b5c049bfd89",
   "metadata": {},
   "outputs": [],
   "source": [
    "from sklearn.datasets import load_iris\n",
    "from sklearn.preprocessing import StandardScaler\n",
    "from sklearn.neighbors import KNeighborsClassifier\n",
    "from sklearn.model_selection import train_test_split, StratifiedKFold\n",
    "from sklearn.metrics import accuracy_score\n",
    "\n",
    "import pandas as pd\n",
    "import numpy as np"
   ]
  },
  {
   "cell_type": "code",
   "execution_count": 12,
   "id": "a8c5f31d-f1f4-4752-b1fc-cf9d75d13114",
   "metadata": {},
   "outputs": [],
   "source": [
    "ds = load_iris(as_frame=True)\n",
    "df = ds.frame\n",
    "X = ds.data.values\n",
    "y = ds.target.values"
   ]
  },
  {
   "cell_type": "code",
   "execution_count": 30,
   "id": "0880caab-9e72-422c-835b-c878542ec268",
   "metadata": {},
   "outputs": [],
   "source": [
    "def selecionar_melhor_k(ks, X_treino, X_val, y_treino, y_val):\n",
    "    # FAZER ASSIM TA certo FI\n",
    "    acuracias_val = []\n",
    "        \n",
    "    for k in ks:\n",
    "        knn = KNeighborsClassifier(n_neighbors=k)\n",
    "        knn.fit(X_treino, y_treino)\n",
    "        pred = knn.predict(X_val)\n",
    "        acuracias_val.append(accuracy_score(y_val, pred))\n",
    "\n",
    "\n",
    "    melhor_acuracia_val = max(acuracias_val)\n",
    "    melhor_k = ks[np.argmax(acuracias_val)]\n",
    "    knn = KNeighborsClassifier(n_neighbors=melhor_k)\n",
    "    knn.fit(np.vstack((X_treino, X_val)), [*y_treino, *y_val])\n",
    "    \n",
    "    return knn, melhor_k, melhor_acuracia_val"
   ]
  },
  {
   "cell_type": "code",
   "execution_count": 32,
   "id": "d4c579fc-bcf5-4cbe-afe6-a28fa1f4ba0d",
   "metadata": {},
   "outputs": [
    {
     "name": "stdout",
     "output_type": "stream",
     "text": [
      "0.8666666666666667\n",
      "1.0\n",
      "0.9400000000000001\n",
      "0.04666666666666665\n"
     ]
    }
   ],
   "source": [
    "k_vias = 10\n",
    "acuracias = []\n",
    "skf = StratifiedKFold(n_splits=k_vias, shuffle=True, random_state=1)\n",
    "\n",
    "for idx_treino, idx_teste in skf.split(X, y):\n",
    "    X_treino = X[idx_treino]\n",
    "    y_treino = y[idx_treino]\n",
    "    \n",
    "    X_teste = X[idx_teste]\n",
    "    y_teste = y[idx_teste]\n",
    "    \n",
    "    X_treino, X_val, y_treino, y_val = train_test_split(X_treino, y_treino, test_size=0.2,\n",
    "                                                       stratify=y_treino, shuffle=True, random_state=1)\n",
    "    \n",
    "    ss = StandardScaler()\n",
    "    ss.fit(X_treino)\n",
    "    X_treino = ss.transform(X_treino)\n",
    "    X_teste = ss.transform(X_teste)\n",
    "    X_val = ss.transform(X_val)\n",
    "    \n",
    "    knn, _, _ = selecionar_melhor_k(range(1, 30, 2), X_treino, X_val, y_treino, y_val)\n",
    "    acuracias.append(accuracy_score(y_teste, knn.predict(X_teste)))\n",
    "    \n",
    "print(min(acuracias))\n",
    "print(max(acuracias))\n",
    "print(np.mean(acuracias))\n",
    "print(np.std(acuracias))"
   ]
  },
  {
   "cell_type": "markdown",
   "id": "5f3b953c-5d4c-4e8f-b14d-bd985ccb6d9e",
   "metadata": {},
   "source": [
    "# VALIDAÇÃO CRUZADA EM K-VIAS EM DOIS NIVEIS"
   ]
  },
  {
   "cell_type": "code",
   "execution_count": null,
   "id": "004f9e97-c65a-4608-ad86-d9425cac658a",
   "metadata": {},
   "outputs": [],
   "source": [
    "k1 = 10\n",
    "acuracias = []\n",
    "skf = StratifiedKFold(n_splits=k1, shuffle=True, random_state=1)\n",
    "\n",
    "for idx_treino, idx_teste in skf.split(X, y):\n",
    "    X_treino = X[idx_treino]\n",
    "    y_treino = y[idx_treino]\n",
    "    \n",
    "    X_teste = X[idx_teste]\n",
    "    y_teste = y[idx_teste]\n",
    "    \n",
    "    ss = StandardScaler()\n",
    "    ss.fit(X_treino)\n",
    "    X_treino = ss.transform(X_treino)\n",
    "    X_teste = ss.transform(X_teste)\n",
    "    X_val = ss.transform(X_val)"
   ]
  }
 ],
 "metadata": {
  "kernelspec": {
   "display_name": "Python 3",
   "language": "python",
   "name": "python3"
  },
  "language_info": {
   "codemirror_mode": {
    "name": "ipython",
    "version": 3
   },
   "file_extension": ".py",
   "mimetype": "text/x-python",
   "name": "python",
   "nbconvert_exporter": "python",
   "pygments_lexer": "ipython3",
   "version": "3.8.8"
  }
 },
 "nbformat": 4,
 "nbformat_minor": 5
}
