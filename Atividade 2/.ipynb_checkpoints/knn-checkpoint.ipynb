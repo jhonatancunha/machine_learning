{
 "cells": [
  {
   "cell_type": "markdown",
   "id": "a03bd310-6933-40c0-bef8-2db36ad210f4",
   "metadata": {},
   "source": [
    "# K-nearest neighbors"
   ]
  },
  {
   "cell_type": "code",
   "execution_count": 2,
   "id": "2ab9e7e5-302f-4e6b-8195-a648455b10a9",
   "metadata": {},
   "outputs": [],
   "source": [
    "import numpy as np\n",
    "\n",
    "class KNN(object):\n",
    "    def __init__(self, k=1):\n",
    "        self.k = k\n",
    "        self.pontos = None\n",
    "        self.rotulos = None\n",
    "    \n",
    "    @staticmethod\n",
    "    def distancia_euclianada(p, q):\n",
    "        return np.sqrt(np.sum((p - q)**2))\n",
    "    \n",
    "    def fit(self, X, y):\n",
    "        self.pontos = X\n",
    "        self.rotulos = y\n",
    "    \n",
    "    def predict(self, X):\n",
    "        predicoes = []\n",
    "        \n",
    "        for p in X:\n",
    "            d = [ self.distancia_euclianada(p, q) for q in self.pontos]\n",
    "            ds = np.argsort(d)\n",
    "            iknn = ds[:self.k]\n",
    "            rotulos_knn = self.rotulos[iknn]\n",
    "            rotulos, count = np.unique(rotulos_knn, return_counts=True)\n",
    "            pred = rotulos[np.argmax(count)]\n",
    "            predicoes.append(pred)\n",
    "        \n",
    "        \n",
    "        return np.array(predicoes)"
   ]
  },
  {
   "cell_type": "code",
   "execution_count": 3,
   "id": "30af3a23-f375-40c3-b0bd-cc6e112fa33d",
   "metadata": {},
   "outputs": [],
   "source": [
    "from sklearn.datasets import load_iris\n",
    "from sklearn.model_selection import train_test_split\n",
    "from sklearn.metrics import accuracy_score\n",
    "import matplotlib.pyplot as plt\n",
    "\n",
    "%matplotlib inline"
   ]
  },
  {
   "cell_type": "code",
   "execution_count": 4,
   "id": "43b16955-91c2-4b75-85d1-e0169b77c7ca",
   "metadata": {},
   "outputs": [],
   "source": [
    "ds = load_iris(as_frame=True)"
   ]
  },
  {
   "cell_type": "code",
   "execution_count": 5,
   "id": "11cc7e5d-26b8-483d-bda7-5712f9c28af3",
   "metadata": {},
   "outputs": [
    {
     "data": {
      "text/html": [
       "<div>\n",
       "<style scoped>\n",
       "    .dataframe tbody tr th:only-of-type {\n",
       "        vertical-align: middle;\n",
       "    }\n",
       "\n",
       "    .dataframe tbody tr th {\n",
       "        vertical-align: top;\n",
       "    }\n",
       "\n",
       "    .dataframe thead th {\n",
       "        text-align: right;\n",
       "    }\n",
       "</style>\n",
       "<table border=\"1\" class=\"dataframe\">\n",
       "  <thead>\n",
       "    <tr style=\"text-align: right;\">\n",
       "      <th></th>\n",
       "      <th>sepal length (cm)</th>\n",
       "      <th>sepal width (cm)</th>\n",
       "      <th>petal length (cm)</th>\n",
       "      <th>petal width (cm)</th>\n",
       "      <th>target</th>\n",
       "    </tr>\n",
       "  </thead>\n",
       "  <tbody>\n",
       "    <tr>\n",
       "      <th>0</th>\n",
       "      <td>5.1</td>\n",
       "      <td>3.5</td>\n",
       "      <td>1.4</td>\n",
       "      <td>0.2</td>\n",
       "      <td>0</td>\n",
       "    </tr>\n",
       "    <tr>\n",
       "      <th>1</th>\n",
       "      <td>4.9</td>\n",
       "      <td>3.0</td>\n",
       "      <td>1.4</td>\n",
       "      <td>0.2</td>\n",
       "      <td>0</td>\n",
       "    </tr>\n",
       "    <tr>\n",
       "      <th>2</th>\n",
       "      <td>4.7</td>\n",
       "      <td>3.2</td>\n",
       "      <td>1.3</td>\n",
       "      <td>0.2</td>\n",
       "      <td>0</td>\n",
       "    </tr>\n",
       "    <tr>\n",
       "      <th>3</th>\n",
       "      <td>4.6</td>\n",
       "      <td>3.1</td>\n",
       "      <td>1.5</td>\n",
       "      <td>0.2</td>\n",
       "      <td>0</td>\n",
       "    </tr>\n",
       "    <tr>\n",
       "      <th>4</th>\n",
       "      <td>5.0</td>\n",
       "      <td>3.6</td>\n",
       "      <td>1.4</td>\n",
       "      <td>0.2</td>\n",
       "      <td>0</td>\n",
       "    </tr>\n",
       "  </tbody>\n",
       "</table>\n",
       "</div>"
      ],
      "text/plain": [
       "   sepal length (cm)  sepal width (cm)  petal length (cm)  petal width (cm)  \\\n",
       "0                5.1               3.5                1.4               0.2   \n",
       "1                4.9               3.0                1.4               0.2   \n",
       "2                4.7               3.2                1.3               0.2   \n",
       "3                4.6               3.1                1.5               0.2   \n",
       "4                5.0               3.6                1.4               0.2   \n",
       "\n",
       "   target  \n",
       "0       0  \n",
       "1       0  \n",
       "2       0  \n",
       "3       0  \n",
       "4       0  "
      ]
     },
     "execution_count": 5,
     "metadata": {},
     "output_type": "execute_result"
    }
   ],
   "source": [
    "ds.frame.head()"
   ]
  },
  {
   "cell_type": "code",
   "execution_count": 6,
   "id": "5cb77462-ced2-467e-aba1-100c982ba337",
   "metadata": {},
   "outputs": [],
   "source": [
    "def obter_atributos(ds, atributos):\n",
    "    df = ds.frame[[*atributos, 'target']] # * é o spread operator\n",
    "    X = df[atributos]\n",
    "    y = df['target']\n",
    "    \n",
    "    return df, X, y\n",
    "\n",
    "atributos = ['sepal length (cm)', 'sepal width (cm)']\n",
    "df, X, y = obter_atributos(ds, atributos)"
   ]
  },
  {
   "cell_type": "code",
   "execution_count": 7,
   "id": "b4234609-30dd-45b8-b080-319dcf9d248d",
   "metadata": {},
   "outputs": [],
   "source": [
    "X_treino, X_teste, y_treino, y_teste = train_test_split(X.values, y.values, \n",
    "                                                         train_size=0.2, random_state=1, \n",
    "                                                         stratify=y.values)"
   ]
  },
  {
   "cell_type": "code",
   "execution_count": 8,
   "id": "b3823ed1-6560-4b87-b972-288b15ea34a8",
   "metadata": {},
   "outputs": [
    {
     "name": "stdout",
     "output_type": "stream",
     "text": [
      "Acuracia no teste: 0.77\n"
     ]
    },
    {
     "data": {
      "image/png": "[encoded data removed]",
      "text/plain": [
       "<Figure size 576x432 with 1 Axes>"
      ]
     },
     "metadata": {
      "needs_background": "light"
     },
     "output_type": "display_data"
    }
   ],
   "source": [
    "knn = KNN(k=1)\n",
    "knn.fit(X_treino, y_treino)\n",
    "pred = knn.predict(X_teste)\n",
    "\n",
    "print(\"Acuracia no teste: %.2f\" % (accuracy_score(y_teste, pred)))\n",
    "def plotar_instancias(X_treino, y_treino, X_teste, y_teste, cmap=None, ax=None):\n",
    "    if cmap is None:\n",
    "        cmap = ['darkorange', 'c', 'darkblue']\n",
    "    if ax is None:\n",
    "        _, ax = plt.subplots(figsize=(8,6))\n",
    "    ax.scatter(X_treino[y_treino==0,0], X_treino[y_treino==0,1], c=cmap[0], label='setosa (treino)')\n",
    "    ax.scatter(X_treino[y_treino==1,0], X_treino[y_treino==1,1], c=cmap[1], label='versicolor (treino)')\n",
    "    ax.scatter(X_treino[y_treino==2,0], X_treino[y_treino==2,1], c=cmap[2], label='virginica (treino)')\n",
    "\n",
    "    ax.scatter(X_teste[y_teste==0,0], X_teste[y_teste==0,1], c=cmap[0], marker='x', label='setosa (teste)')\n",
    "    ax.scatter(X_teste[y_teste==1,0], X_teste[y_teste==1,1], c=cmap[1], marker='x', label='versicolor (teste)')\n",
    "    ax.scatter(X_teste[y_teste==2,0], X_teste[y_teste==2,1], c=cmap[2], marker='x', label='virginica (teste)')\n",
    "    ax.legend(loc='best')\n",
    "    \n",
    "    return ax\n",
    "    \n",
    "ax = plotar_instancias(X_treino, y_treino, X_teste, y_teste)\n",
    "ax.set_xlabel(df.columns[0])\n",
    "ax.set_ylabel(df.columns[1])\n",
    "plt.show()"
   ]
  },
  {
   "cell_type": "markdown",
   "id": "a5f6c9a8-3690-4447-863f-33027e094697",
   "metadata": {},
   "source": [
    "# FRONTEIRA DE DECISÃO"
   ]
  },
  {
   "cell_type": "code",
   "execution_count": 18,
   "id": "be44aba4-2b88-4be4-b9ac-fd6639dac86d",
   "metadata": {},
   "outputs": [
    {
     "name": "stdout",
     "output_type": "stream",
     "text": [
      "33 ms ± 1.27 ms per loop (mean ± std. dev. of 7 runs, 10 loops each)\n"
     ]
    }
   ],
   "source": [
    "%timeit pred = knn.predict(X_teste)"
   ]
  },
  {
   "cell_type": "code",
   "execution_count": 10,
   "id": "14438c96-62db-4615-8850-9719224767d4",
   "metadata": {},
   "outputs": [],
   "source": [
    "from sklearn.neighbors import KNeighborsClassifier"
   ]
  },
  {
   "cell_type": "code",
   "execution_count": 25,
   "id": "9072d633-28cb-43a0-b21f-f4b40bf0ad7c",
   "metadata": {},
   "outputs": [],
   "source": [
    "knnsk = KNeighborsClassifier(n_neighbors=1)\n",
    "knnsk.fit(X_treino, y_treino)\n",
    "pred = knnsk.predict(X_teste)"
   ]
  },
  {
   "cell_type": "code",
   "execution_count": 19,
   "id": "73667bfb-48a0-42cb-aa64-d773c2bfe878",
   "metadata": {},
   "outputs": [
    {
     "name": "stdout",
     "output_type": "stream",
     "text": [
      "3.27 ms ± 145 µs per loop (mean ± std. dev. of 7 runs, 100 loops each)\n"
     ]
    }
   ],
   "source": [
    "%timeit pred = knnsk.predict(X_teste)"
   ]
  },
  {
   "cell_type": "code",
   "execution_count": 26,
   "id": "ef17a1be-e596-4cfa-bc36-3c1efe141c7d",
   "metadata": {},
   "outputs": [
    {
     "data": {
      "image/png": "[encoded data removed]",
      "text/plain": [
       "<Figure size 576x432 with 1 Axes>"
      ]
     },
     "metadata": {
      "needs_background": "light"
     },
     "output_type": "display_data"
    }
   ],
   "source": [
    "from matplotlib.colors import ListedColormap\n",
    "\n",
    "def plotar_fronteira_decisao(classificador, X_treino, y_treino, X_teste, y_teste, ax=None):\n",
    "\n",
    "    #criar um mapa de cores de forma que a fronteira de decisão seja clara\n",
    "    #e os pontos das classes correspondentes sejam da mesma cor, mas mais escuros.\n",
    "    cmap_claro = ListedColormap(['orange', 'cyan', 'cornflowerblue'])\n",
    "    cmap_escuro = ['darkorange', 'c', 'darkblue']\n",
    "\n",
    "    #passo do grid de predições. Quanto menor, melhor a resolução, mas mais demorado pra calcular.\n",
    "    grafico_delta = 0.02 \n",
    "    \n",
    "    #Criar o grid de predições. Pra prática estamos criando pontos no espaço de atributos para\n",
    "    #fazer as predições. Estas predições são usadas depois para fazer um gráfico de contornos preenchido com\n",
    "    #as regiões da cor de cada classe.\n",
    "    xmin, xmax = X_treino[:,0].min() - 0.5, X_treino[:,0].max() + 0.5\n",
    "    ymin, ymax = X_treino[:,1].min() - 0.5 , X_treino[:,1].max() + 0.5\n",
    "    xx, yy = np.meshgrid(np.arange(xmin, xmax, grafico_delta),\n",
    "                         np.arange(ymin, ymax, grafico_delta))\n",
    "    \n",
    "    #Realizar as predições dos exemplos gerados acima.\n",
    "    pred_grafico = classificador.predict(np.c_[xx.ravel(), yy.ravel()])\n",
    "    pred_grafico = pred_grafico.reshape(xx.shape)\n",
    "\n",
    "    if ax is None:\n",
    "        _, ax = plt.subplots(figsize=(8,6))\n",
    "    \n",
    "    #Plotar o gráfico de contornos\n",
    "    ax.contourf(xx,yy,pred_grafico, cmap=cmap_claro)\n",
    "    \n",
    "    #Plotar as instâncias\n",
    "    plotar_instancias(X_treino, y_treino, X_teste, y_teste, cmap_escuro, ax=ax)\n",
    "    \n",
    "    #ajeitar os limites dos eixos e seus rótulos.\n",
    "    ax.set_xlim(xx.min(), xx.max())\n",
    "    ax.set_ylim(yy.min(), yy.max())\n",
    "    ax.set_xlabel(df.columns[0])\n",
    "    ax.set_ylabel(df.columns[1])\n",
    "    \n",
    "    return ax\n",
    "\n",
    "plotar_fronteira_decisao(knnsk, X_treino, y_treino, X_teste, y_teste)\n",
    "\n",
    "plt.show()"
   ]
  },
  {
   "cell_type": "code",
   "execution_count": 36,
   "id": "24e93924-c3ed-4200-b5ec-9063d2993199",
   "metadata": {},
   "outputs": [
    {
     "ename": "SyntaxError",
     "evalue": "invalid syntax (<ipython-input-36-c1fbf6b2c855>, line 1)",
     "output_type": "error",
     "traceback": [
      "\u001b[0;36m  File \u001b[0;32m\"<ipython-input-36-c1fbf6b2c855>\"\u001b[0;36m, line \u001b[0;32m1\u001b[0m\n\u001b[0;31m    def plotar_fronteiras_ks(X y)\u001b[0m\n\u001b[0m                               ^\u001b[0m\n\u001b[0;31mSyntaxError\u001b[0m\u001b[0;31m:\u001b[0m invalid syntax\n"
     ]
    }
   ],
   "source": [
    "def plotar_fronteiras_ks(X, y)\n",
    "    nrows = 3\n",
    "    ncols = 3\n",
    "\n",
    "    X_treino, X_teste, y_treino, y_teste = train_test_split(X.values, y.values, \n",
    "                                                             train_size=0.2, random_state=1, \n",
    "                                                             stratify=y.values)\n",
    "    fig, axes = plt.subplots(nrows=nrows, ncols=ncols, figsize=(16, 16))\n",
    "\n",
    "    k = 1\n",
    "    for row in range(nrows):\n",
    "        for col in range(ncols):\n",
    "            clf = KNeighborsClassifier(n_neighbors=k)\n",
    "            clf.fit(X_treino, y_treino)\n",
    "            pred = clf.predict(X_teste)\n",
    "\n",
    "            plotar_fronteira_decisao(clf, X_treino, y_treino, X_teste, y_teste, ax=axes[row][col])\n",
    "\n",
    "            axes[row][col].get_legend().set_visible(False)\n",
    "            axes[row][col].set_title(\"k = %d, acc(teste)= %.2f\" % (k, accuracy_score(y_teste, pred)))\n",
    "            k+=2\n",
    "\n",
    "    fig.tight_layout()"
   ]
  },
  {
   "cell_type": "code",
   "execution_count": 37,
   "id": "d39a2975-edb3-4f89-916a-df3548d38707",
   "metadata": {},
   "outputs": [
    {
     "ename": "SyntaxError",
     "evalue": "invalid syntax (<ipython-input-37-f73de654ba46>, line 1)",
     "output_type": "error",
     "traceback": [
      "\u001b[0;36m  File \u001b[0;32m\"<ipython-input-37-f73de654ba46>\"\u001b[0;36m, line \u001b[0;32m1\u001b[0m\n\u001b[0;31m    plotar_fronteiras_ks(X y)\u001b[0m\n\u001b[0m                           ^\u001b[0m\n\u001b[0;31mSyntaxError\u001b[0m\u001b[0;31m:\u001b[0m invalid syntax\n"
     ]
    }
   ],
   "source": [
    "plotar_fronteiras_ks(X y)"
   ]
  },
  {
   "cell_type": "code",
   "execution_count": null,
   "id": "4fa4d355-be79-4a97-a703-6ce0179c633c",
   "metadata": {},
   "outputs": [],
   "source": []
  }
 ],
 "metadata": {
  "kernelspec": {
   "display_name": "Python 3",
   "language": "python",
   "name": "python3"
  },
  "language_info": {
   "codemirror_mode": {
    "name": "ipython",
    "version": 3
   },
   "file_extension": ".py",
   "mimetype": "text/x-python",
   "name": "python",
   "nbconvert_exporter": "python",
   "pygments_lexer": "ipython3",
   "version": "3.8.8"
  }
 },
 "nbformat": 4,
 "nbformat_minor": 5
}
