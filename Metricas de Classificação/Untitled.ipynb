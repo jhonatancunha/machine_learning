{
 "cells": [
  {
   "cell_type": "code",
   "execution_count": 26,
   "id": "f457864c-bde7-4011-8c65-83b767c62510",
   "metadata": {},
   "outputs": [],
   "source": [
    "import pandas as pd\n",
    "import numpy\n",
    "\n",
    "\n",
    "from sklearn.neighbors import KNeighborsClassifier\n",
    "from sklearn.metrics import accuracy_score, plot_confusion_matrix, recall_score, classification_report, f1_score, precision_score\n",
    "from sklearn.preprocessing import StandardScaler\n",
    "from sklearn.model_selection import train_test_split"
   ]
  },
  {
   "cell_type": "code",
   "execution_count": 4,
   "id": "a59c2a5b-89b0-4e27-be0e-7ee887b7fadf",
   "metadata": {},
   "outputs": [],
   "source": [
    "df = pd.read_csv('heart.csv')\n",
    "#df"
   ]
  },
  {
   "cell_type": "code",
   "execution_count": 6,
   "id": "fda7f009-3f55-4b76-93af-03806bb2fe90",
   "metadata": {},
   "outputs": [],
   "source": [
    "y = df['DEATH'].values.ravel()\n",
    "X = df.drop('DEATH', axis=1)"
   ]
  },
  {
   "cell_type": "code",
   "execution_count": 7,
   "id": "4b05dfa8-3c08-48b4-872a-e006a1936968",
   "metadata": {},
   "outputs": [
    {
     "data": {
      "text/plain": [
       "((200,), (200, 15))"
      ]
     },
     "execution_count": 7,
     "metadata": {},
     "output_type": "execute_result"
    }
   ],
   "source": [
    "y.shape, X.shape"
   ]
  },
  {
   "cell_type": "code",
   "execution_count": 8,
   "id": "50b50c1f-e3b7-41cf-ab9a-06570a035d0b",
   "metadata": {},
   "outputs": [],
   "source": [
    "X_treino, X_teste, y_treino, y_teste = train_test_split(X, y, test_size=0.2, stratify=y, random_state=3)"
   ]
  },
  {
   "cell_type": "code",
   "execution_count": 11,
   "id": "3b9167b8-2e55-4847-a70e-a6eaf9f45e5d",
   "metadata": {},
   "outputs": [],
   "source": [
    "ss = StandardScaler()\n",
    "ss.fit(X_treino)\n",
    "X_treino = ss.transform(X_treino)\n",
    "X_teste = ss.transform(X_teste)"
   ]
  },
  {
   "cell_type": "code",
   "execution_count": 13,
   "id": "7061554d-0649-4a15-a39a-afe51da00c44",
   "metadata": {},
   "outputs": [
    {
     "data": {
      "text/plain": [
       "KNeighborsClassifier(n_neighbors=3)"
      ]
     },
     "execution_count": 13,
     "metadata": {},
     "output_type": "execute_result"
    }
   ],
   "source": [
    "knn = KNeighborsClassifier(n_neighbors=3)\n",
    "knn.fit(X_treino, y_treino)"
   ]
  },
  {
   "cell_type": "code",
   "execution_count": 14,
   "id": "fbb2237f-cde1-47c7-a8af-781c8488879a",
   "metadata": {},
   "outputs": [
    {
     "data": {
      "text/plain": [
       "0.6"
      ]
     },
     "execution_count": 14,
     "metadata": {},
     "output_type": "execute_result"
    }
   ],
   "source": [
    "pred = knn.predict(X_teste)\n",
    "accuracy_score(y_teste, pred)"
   ]
  },
  {
   "cell_type": "code",
   "execution_count": 16,
   "id": "5267f311-b52e-4071-b38f-5da604a611a5",
   "metadata": {},
   "outputs": [
    {
     "data": {
      "text/plain": [
       "<sklearn.metrics._plot.confusion_matrix.ConfusionMatrixDisplay at 0x7f76ddd5fd90>"
      ]
     },
     "execution_count": 16,
     "metadata": {},
     "output_type": "execute_result"
    },
    {
     "data": {
      "image/png": "[encoded data removed]",
      "text/plain": [
       "<Figure size 432x288 with 2 Axes>"
      ]
     },
     "metadata": {
      "needs_background": "light"
     },
     "output_type": "display_data"
    }
   ],
   "source": [
    "plot_confusion_matrix(knn, X_teste, y_teste, cmap='Blues')"
   ]
  },
  {
   "cell_type": "markdown",
   "id": "6f005665-7473-455e-b7d9-c2fe7478713d",
   "metadata": {},
   "source": [
    "$$\\textit{Recall} = \\frac{vp}{(vp + fn)}$$\n"
   ]
  },
  {
   "cell_type": "code",
   "execution_count": 22,
   "id": "e617b9c5-dd2e-4141-8562-189667d0dbb7",
   "metadata": {},
   "outputs": [
    {
     "data": {
      "text/plain": [
       "0.3076923076923077"
      ]
     },
     "execution_count": 22,
     "metadata": {},
     "output_type": "execute_result"
    }
   ],
   "source": [
    "4 / 13 # recoil"
   ]
  },
  {
   "cell_type": "code",
   "execution_count": 21,
   "id": "dcb9f0a4-0a2a-407b-ab37-c595b0c12e1c",
   "metadata": {},
   "outputs": [
    {
     "data": {
      "text/plain": [
       "0.3076923076923077"
      ]
     },
     "execution_count": 21,
     "metadata": {},
     "output_type": "execute_result"
    }
   ],
   "source": [
    "recall_score(y_teste, pred)"
   ]
  },
  {
   "cell_type": "code",
   "execution_count": 24,
   "id": "c6ad1547-9769-4358-850d-9772128de3be",
   "metadata": {},
   "outputs": [
    {
     "data": {
      "text/plain": [
       "0.36363636363636365"
      ]
     },
     "execution_count": 24,
     "metadata": {},
     "output_type": "execute_result"
    }
   ],
   "source": [
    "4 / 11 # precisao"
   ]
  },
  {
   "cell_type": "code",
   "execution_count": 27,
   "id": "b093c27f-a142-4af0-ae78-ab4449e733ca",
   "metadata": {},
   "outputs": [
    {
     "data": {
      "text/plain": [
       "0.36363636363636365"
      ]
     },
     "execution_count": 27,
     "metadata": {},
     "output_type": "execute_result"
    }
   ],
   "source": [
    "precision_score(y_teste, pred)"
   ]
  },
  {
   "cell_type": "code",
   "execution_count": 29,
   "id": "b22522bd-e6c8-46d7-9488-34201500da40",
   "metadata": {},
   "outputs": [
    {
     "name": "stdout",
     "output_type": "stream",
     "text": [
      "              precision    recall  f1-score   support\n",
      "\n",
      "           0       0.69      0.74      0.71        27\n",
      "           1       0.36      0.31      0.33        13\n",
      "\n",
      "    accuracy                           0.60        40\n",
      "   macro avg       0.53      0.52      0.52        40\n",
      "weighted avg       0.58      0.60      0.59        40\n",
      "\n"
     ]
    }
   ],
   "source": [
    "print(classification_report(y_teste, pred))"
   ]
  },
  {
   "cell_type": "code",
   "execution_count": null,
   "id": "96f7fdb8-d999-4f03-9a73-fb1b0686bb96",
   "metadata": {},
   "outputs": [],
   "source": []
  }
 ],
 "metadata": {
  "kernelspec": {
   "display_name": "Python 3",
   "language": "python",
   "name": "python3"
  },
  "language_info": {
   "codemirror_mode": {
    "name": "ipython",
    "version": 3
   },
   "file_extension": ".py",
   "mimetype": "text/x-python",
   "name": "python",
   "nbconvert_exporter": "python",
   "pygments_lexer": "ipython3",
   "version": "3.8.8"
  }
 },
 "nbformat": 4,
 "nbformat_minor": 5
}
