{
 "cells": [
  {
   "cell_type": "markdown",
   "id": "7693919c-b914-4e57-8a28-5cdb5c78fbb7",
   "metadata": {},
   "source": [
    "# Otimização de Hiperparâmetros"
   ]
  },
  {
   "cell_type": "code",
   "execution_count": 1,
   "id": "341bbff3-e2ab-4c86-9ad9-547450c22549",
   "metadata": {},
   "outputs": [],
   "source": [
    "from sklearn.datasets import load_iris\n",
    "from sklearn.preprocessing import StandardScaler\n",
    "from sklearn.neighbors import KNeighborsClassifier\n",
    "from sklearn.model_selection import train_test_split\n",
    "from sklearn.metrics import accuracy_score\n",
    "\n",
    "import pandas as pd\n",
    "import numpy as np\n",
    "import matplotlib.pyplot as plt\n",
    "\n",
    "%matplotlib inline"
   ]
  },
  {
   "cell_type": "code",
   "execution_count": 2,
   "id": "c2278255-cc08-4355-8266-246f1d0b718a",
   "metadata": {},
   "outputs": [],
   "source": [
    "ds = load_iris(as_frame=True)\n",
    "df = ds.frame\n",
    "X = ds.data.values\n",
    "y = ds.target.values"
   ]
  },
  {
   "cell_type": "code",
   "execution_count": 6,
   "id": "2c37d8a9-f50f-4e25-9265-aade6479f4fe",
   "metadata": {},
   "outputs": [],
   "source": [
    "X_treino, X_teste, y_treino, y_teste = train_test_split(X, y, test_size=0.2, stratify=y, random_state=1)\n",
    "\n",
    "ss = StandardScaler()\n",
    "ss.fit(X_treino)\n",
    "X_treino = ss.transform(X_treino)\n",
    "X_teste = ss.transform(X_teste)"
   ]
  },
  {
   "cell_type": "code",
   "execution_count": 21,
   "id": "a509e2b1-143b-41e7-b008-6be772de1260",
   "metadata": {},
   "outputs": [
    {
     "data": {
      "text/plain": [
       "0.9666666666666667"
      ]
     },
     "execution_count": 21,
     "metadata": {},
     "output_type": "execute_result"
    }
   ],
   "source": [
    "knn = KNeighborsClassifier(n_neighbors=2)\n",
    "knn.fit(X_treino, y_treino)\n",
    "pred = knn.predict(X_teste)\n",
    "accuracy_score(y_teste, pred)"
   ]
  },
  {
   "cell_type": "code",
   "execution_count": 43,
   "id": "5c18a949-c0af-4f17-86d7-e5341eddca5f",
   "metadata": {},
   "outputs": [
    {
     "name": "stdout",
     "output_type": "stream",
     "text": [
      "Melhor k: 1 com acuracia 0.9667\n"
     ]
    }
   ],
   "source": [
    "\n",
    "#NÃO FAZER ASSIM TA ERRADO FI\n",
    "acuracias = []\n",
    "\n",
    "ks = list(range(1, 30, 2))\n",
    "\n",
    "for k in ks:\n",
    "    knn = KNeighborsClassifier(n_neighbors=k)\n",
    "    knn.fit(X_treino, y_treino)\n",
    "    pred = knn.predict(X_teste)\n",
    "    acuracias.append(accuracy_score(y_teste, pred))\n",
    "    \n",
    "melhor_acuracia = max(acuracias)\n",
    "melhor_k = ks[np.argmax(acuracias)]\n",
    "\n",
    "print(\"Melhor k: %d com acuracia %.4f\" % (melhor_k, melhor_acuracia))"
   ]
  },
  {
   "cell_type": "code",
   "execution_count": 44,
   "id": "b4790f71-3171-459b-a76c-20857edd7456",
   "metadata": {},
   "outputs": [],
   "source": [
    "def plot_knn_k_acuracias(ks, acuracias, titulo=''):\n",
    "    fig, ax = plt.subplots(figsize=(8, 4))\n",
    "    ax.plot(ks, acuracias)\n",
    "    ax.set_xticks(ks)\n",
    "    ax.set_xlabel('k')\n",
    "    ax.set_ylabel('Acuracia')\n",
    "    ax.set_title(\"Acuracia no conjunto de %s\" % (titulo))\n",
    "    fig.tight_layout()\n",
    "    plt.show()"
   ]
  },
  {
   "cell_type": "code",
   "execution_count": 32,
   "id": "65675ee6-170e-4a40-b67e-049289dcc63e",
   "metadata": {},
   "outputs": [
    {
     "data": {
      "image/png": "[encoded data removed]",
      "text/plain": [
       "<Figure size 576x288 with 1 Axes>"
      ]
     },
     "metadata": {
      "needs_background": "light"
     },
     "output_type": "display_data"
    }
   ],
   "source": [
    "plot_knn_k_acuracias(ks, acuracias, \"Teste\")"
   ]
  },
  {
   "cell_type": "markdown",
   "id": "4becefa7-3f9e-4f06-8689-33a31255122c",
   "metadata": {},
   "source": [
    "# CONJUNTO DE VALIDAÇÃO"
   ]
  },
  {
   "cell_type": "code",
   "execution_count": 61,
   "id": "d34323d8-2f75-4691-9b58-e7a3826c067a",
   "metadata": {},
   "outputs": [],
   "source": [
    "# 80% TREINO, 20% PARA TESTE \n",
    "X_treino, X_teste, y_treino, y_teste = train_test_split(X, y, test_size=0.2, stratify=y, random_state=2)\n",
    "\n",
    "# 80% TREINO, 20% PARA VALIDAÇÃO\n",
    "X_treino, X_val, y_treino, y_val = train_test_split(X_treino, y_treino, test_size=0.2, stratify=y_treino, random_state=1)\n",
    "\n",
    "ss = StandardScaler()\n",
    "ss.fit(X_treino)\n",
    "X_treino = ss.transform(X_treino)\n",
    "X_teste = ss.transform(X_teste)\n",
    "X_val = ss.transform(X_val)"
   ]
  },
  {
   "cell_type": "code",
   "execution_count": 65,
   "id": "57956072-da24-4158-90d6-de251d057a1f",
   "metadata": {},
   "outputs": [
    {
     "name": "stdout",
     "output_type": "stream",
     "text": [
      "Melhor k: 7 com acuracia 0.9167 na validação\n",
      "Acuracia do teste: 0.967\n"
     ]
    }
   ],
   "source": [
    "\n",
    "def selecionar_melhor_k(ks, X_treino, X_val, y_treino, y_val):\n",
    "    # FAZER ASSIM TA certo FI\n",
    "    acuracias_val = []\n",
    "    \n",
    "    knns = []\n",
    "    \n",
    "    for k in ks:\n",
    "        knn = KNeighborsClassifier(n_neighbors=k)\n",
    "        knn.fit(X_treino, y_treino)\n",
    "        knns.append(knn)\n",
    "        pred = knn.predict(X_val)\n",
    "        acuracias_val.append(accuracy_score(y_val, pred))\n",
    "\n",
    "\n",
    "    melhor_acuracia_val = max(acuracias_val)\n",
    "    melhor_k_val = ks_val[np.argmax(acuracias_val)]\n",
    "    melhor_knn = knns[np.argmax(acuracias_val)]\n",
    "    \n",
    "    return melhor_knn, melhor_k_val, melhor_acuracia_val\n",
    "\n",
    "ks_val = list(range(1, 30, 2))\n",
    "\n",
    "melhor_knn, elhor_k_val, melhor_acuracia_val = selecionar_melhor_k(ks_val, X_treino, X_val, y_treino, y_val)\n",
    "print(\"Melhor k: %d com acuracia %.4f na validação\" % (melhor_k_val, melhor_acuracia_val))\n",
    "\n",
    "pred = melhor_knn.predict(X_teste)\n",
    "print(\"Acuracia do teste: %.3f\" % accuracy_score(y_teste, pred))\n",
    "\n"
   ]
  },
  {
   "cell_type": "code",
   "execution_count": null,
   "id": "baef34bb-fe92-4f93-9eff-1d193526c8e2",
   "metadata": {},
   "outputs": [],
   "source": []
  },
  {
   "cell_type": "code",
   "execution_count": 80,
   "id": "51f6e2ab-09cb-4d49-a960-23e290aad7a3",
   "metadata": {},
   "outputs": [],
   "source": [
    "n_particoes = 100\n",
    "rs = np.random.randint(0, n_particoes*100, n_particoes)\n",
    "\n",
    "acuracias = []\n",
    "\n",
    "for i in rs:\n",
    "    # 80% TREINO, 20% PARA TESTE \n",
    "    X_treino, X_teste, y_treino, y_teste = train_test_split(X, y, test_size=0.2, stratify=y, random_state=i)\n",
    "\n",
    "    # 80% TREINO, 20% PARA VALIDAÇÃO\n",
    "    X_treino, X_val, y_treino, y_val = train_test_split(X_treino, y_treino, test_size=0.2, stratify=y_treino, random_state=1)\n",
    "\n",
    "    ss = StandardScaler()\n",
    "    ss.fit(X_treino)\n",
    "    X_treino = ss.transform(X_treino)\n",
    "    X_teste = ss.transform(X_teste)\n",
    "    X_val = ss.transform(X_val)\n",
    "    \n",
    "    melhor_knn,_,_ = selecionar_melhor_k(range(1, 30, 2), X_treino, X_val, y_treino, y_val)\n",
    "    pred = melhor_knn.predict(X_teste)\n",
    "    acuracias.append(accuracy_score(y_teste, pred))"
   ]
  },
  {
   "cell_type": "code",
   "execution_count": 82,
   "id": "4cd64646-0adc-4f0f-ac92-d7dbcf75138f",
   "metadata": {},
   "outputs": [
    {
     "name": "stdout",
     "output_type": "stream",
     "text": [
      "n= 100, min= 0.83, max= 1.00, media= 0.94, stdev= 0.04\n"
     ]
    }
   ],
   "source": [
    "print(\"n= %d, min= %.2f, max= %.2f, media= %.2f, stdev= %.2f\"% (n_particoes, min(acuracias), max(acuracias), np.mean(acuracias), np.std(acuracias)))"
   ]
  },
  {
   "cell_type": "code",
   "execution_count": 81,
   "id": "984506e2-cf16-4af1-9241-5a3e9e670fda",
   "metadata": {},
   "outputs": [
    {
     "data": {
      "image/png": "[encoded data removed]",
      "text/plain": [
       "<Figure size 432x288 with 1 Axes>"
      ]
     },
     "metadata": {
      "needs_background": "light"
     },
     "output_type": "display_data"
    }
   ],
   "source": [
    "plt.hist(acuracias, bins=30)\n",
    "plt.show()\n"
   ]
  },
  {
   "cell_type": "code",
   "execution_count": null,
   "id": "dbf73c4a-409b-4cd5-bd51-d5d8001e3ee2",
   "metadata": {},
   "outputs": [],
   "source": []
  }
 ],
 "metadata": {
  "kernelspec": {
   "display_name": "Python 3",
   "language": "python",
   "name": "python3"
  },
  "language_info": {
   "codemirror_mode": {
    "name": "ipython",
    "version": 3
   },
   "file_extension": ".py",
   "mimetype": "text/x-python",
   "name": "python",
   "nbconvert_exporter": "python",
   "pygments_lexer": "ipython3",
   "version": "3.8.8"
  }
 },
 "nbformat": 4,
 "nbformat_minor": 5
}
