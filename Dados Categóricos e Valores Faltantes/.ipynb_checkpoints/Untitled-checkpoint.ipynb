{
 "cells": [
  {
   "cell_type": "markdown",
   "id": "c08db936-b1d1-41d5-bfd6-991f0ba16b61",
   "metadata": {},
   "source": [
    "# DADOS CATEGÓRICOS E VALORES FALTANTES"
   ]
  },
  {
   "cell_type": "code",
   "execution_count": 56,
   "id": "7dc28ba4-34c5-4b98-a41a-72c7756f6408",
   "metadata": {},
   "outputs": [],
   "source": [
    "import pandas as pd\n",
    "import numpy as np\n",
    "from sklearn.neighbors import KNeighborsClassifier\n",
    "from sklearn.preprocessing import StandardScaler\n",
    "from sklearn.metrics import accuracy_score\n",
    "from sklearn.model_selection import train_test_split\n",
    "\n",
    "from utils import do_cv_knn\n"
   ]
  },
  {
   "cell_type": "code",
   "execution_count": 12,
   "id": "c1d105f4-fd30-4308-af62-e6eb2f514f97",
   "metadata": {},
   "outputs": [],
   "source": [
    "df = pd.read_csv('employee.csv')\n",
    "df.drop(df.columns[:-4], axis=1, inplace=True)\n",
    "y = df[['left']].values.ravel()\n",
    "X = df.drop('left', axis=1)"
   ]
  },
  {
   "cell_type": "code",
   "execution_count": 20,
   "id": "d1fe3b63-c783-4c84-b2b2-aaf8fb22eb11",
   "metadata": {},
   "outputs": [
    {
     "data": {
      "text/html": [
       "<div>\n",
       "<style scoped>\n",
       "    .dataframe tbody tr th:only-of-type {\n",
       "        vertical-align: middle;\n",
       "    }\n",
       "\n",
       "    .dataframe tbody tr th {\n",
       "        vertical-align: top;\n",
       "    }\n",
       "\n",
       "    .dataframe thead th {\n",
       "        text-align: right;\n",
       "    }\n",
       "</style>\n",
       "<table border=\"1\" class=\"dataframe\">\n",
       "  <thead>\n",
       "    <tr style=\"text-align: right;\">\n",
       "      <th></th>\n",
       "      <th>promotion_last_5years</th>\n",
       "      <th>department</th>\n",
       "      <th>salary</th>\n",
       "    </tr>\n",
       "  </thead>\n",
       "  <tbody>\n",
       "    <tr>\n",
       "      <th>0</th>\n",
       "      <td>0</td>\n",
       "      <td>sales</td>\n",
       "      <td>low</td>\n",
       "    </tr>\n",
       "    <tr>\n",
       "      <th>1</th>\n",
       "      <td>0</td>\n",
       "      <td>sales</td>\n",
       "      <td>medium</td>\n",
       "    </tr>\n",
       "    <tr>\n",
       "      <th>2</th>\n",
       "      <td>0</td>\n",
       "      <td>sales</td>\n",
       "      <td>medium</td>\n",
       "    </tr>\n",
       "    <tr>\n",
       "      <th>3</th>\n",
       "      <td>0</td>\n",
       "      <td>sales</td>\n",
       "      <td>low</td>\n",
       "    </tr>\n",
       "    <tr>\n",
       "      <th>4</th>\n",
       "      <td>0</td>\n",
       "      <td>sales</td>\n",
       "      <td>low</td>\n",
       "    </tr>\n",
       "    <tr>\n",
       "      <th>...</th>\n",
       "      <td>...</td>\n",
       "      <td>...</td>\n",
       "      <td>...</td>\n",
       "    </tr>\n",
       "    <tr>\n",
       "      <th>14994</th>\n",
       "      <td>0</td>\n",
       "      <td>support</td>\n",
       "      <td>low</td>\n",
       "    </tr>\n",
       "    <tr>\n",
       "      <th>14995</th>\n",
       "      <td>0</td>\n",
       "      <td>support</td>\n",
       "      <td>low</td>\n",
       "    </tr>\n",
       "    <tr>\n",
       "      <th>14996</th>\n",
       "      <td>0</td>\n",
       "      <td>support</td>\n",
       "      <td>low</td>\n",
       "    </tr>\n",
       "    <tr>\n",
       "      <th>14997</th>\n",
       "      <td>0</td>\n",
       "      <td>support</td>\n",
       "      <td>low</td>\n",
       "    </tr>\n",
       "    <tr>\n",
       "      <th>14998</th>\n",
       "      <td>0</td>\n",
       "      <td>support</td>\n",
       "      <td>low</td>\n",
       "    </tr>\n",
       "  </tbody>\n",
       "</table>\n",
       "<p>14999 rows × 3 columns</p>\n",
       "</div>"
      ],
      "text/plain": [
       "       promotion_last_5years department  salary\n",
       "0                          0      sales     low\n",
       "1                          0      sales  medium\n",
       "2                          0      sales  medium\n",
       "3                          0      sales     low\n",
       "4                          0      sales     low\n",
       "...                      ...        ...     ...\n",
       "14994                      0    support     low\n",
       "14995                      0    support     low\n",
       "14996                      0    support     low\n",
       "14997                      0    support     low\n",
       "14998                      0    support     low\n",
       "\n",
       "[14999 rows x 3 columns]"
      ]
     },
     "execution_count": 20,
     "metadata": {},
     "output_type": "execute_result"
    }
   ],
   "source": [
    "from sklearn.preprocessing import OrdinalEncoder\n",
    "from sklearn.compose import ColumnTransformer\n",
    "\n",
    "X"
   ]
  },
  {
   "cell_type": "code",
   "execution_count": 54,
   "id": "d645c87b-cd83-4cb6-aa6d-aa793c354f46",
   "metadata": {},
   "outputs": [
    {
     "data": {
      "text/plain": [
       "array([[0., 7., 0.],\n",
       "       [1., 7., 0.],\n",
       "       [1., 7., 0.],\n",
       "       ...,\n",
       "       [0., 8., 0.],\n",
       "       [0., 8., 0.],\n",
       "       [0., 8., 0.]])"
      ]
     },
     "execution_count": 54,
     "metadata": {},
     "output_type": "execute_result"
    }
   ],
   "source": [
    "transformers = [\n",
    "    ('oe_salary', OrdinalEncoder(categories=[['low', 'medium', 'high']]), ['salary']),\n",
    "    ('oe, department', OrdinalEncoder(), ['department'])\n",
    "]\n",
    "\n",
    "ct = ColumnTransformer(transformers, remainder='passthrough')\n",
    "\n",
    "X_oe = ct.fit_transform(X)\n",
    "X_oe"
   ]
  },
  {
   "cell_type": "code",
   "execution_count": 58,
   "id": "d42bc2b8-bfdb-4a43-88ee-9b573e643757",
   "metadata": {},
   "outputs": [
    {
     "data": {
      "application/vnd.jupyter.widget-view+json": {
       "model_id": "fad9533d80c4465181fffc278b220d6a",
       "version_major": 2,
       "version_minor": 0
      },
      "text/plain": [
       "Folds avaliados:   0%|          | 0/10 [00:00<?, ?it/s]"
      ]
     },
     "metadata": {},
     "output_type": "display_data"
    }
   ],
   "source": [
    "acuracias = do_cv_knn(X_oe, y, 10, range(1, 30, 2))"
   ]
  },
  {
   "cell_type": "code",
   "execution_count": 59,
   "id": "05fef4ae-a597-4ef3-9d91-62c589f5372c",
   "metadata": {},
   "outputs": [
    {
     "name": "stdout",
     "output_type": "stream",
     "text": [
      "0.6913333333333334\n",
      "0.762\n",
      "0.7419157660662664\n",
      "0.02277535308724125\n"
     ]
    }
   ],
   "source": [
    "print(min(acuracias))\n",
    "print(max(acuracias))\n",
    "print(np.mean(acuracias))\n",
    "print(np.std(acuracias))"
   ]
  },
  {
   "cell_type": "markdown",
   "id": "0fbd2d7c-c9eb-452b-8947-59f4a0f79a6a",
   "metadata": {
    "tags": []
   },
   "source": [
    "# One-hot encoding"
   ]
  },
  {
   "cell_type": "code",
   "execution_count": 47,
   "id": "8f019a46-e877-4009-99cc-bcc1552682bb",
   "metadata": {},
   "outputs": [
    {
     "name": "stdout",
     "output_type": "stream",
     "text": [
      "[[0. 0. 0. ... 0. 0. 0.]\n",
      " [1. 0. 0. ... 0. 0. 0.]\n",
      " [1. 0. 0. ... 0. 0. 0.]\n",
      " ...\n",
      " [0. 0. 0. ... 1. 0. 0.]\n",
      " [0. 0. 0. ... 1. 0. 0.]\n",
      " [0. 0. 0. ... 1. 0. 0.]]\n"
     ]
    }
   ],
   "source": [
    "from sklearn.preprocessing import OneHotEncoder\n",
    "\n",
    "transformers = [\n",
    "    ('oe_salary', OrdinalEncoder(categories=[['low', 'medium', 'high']]), ['salary']),\n",
    "    ('oh, department', OneHotEncoder(), ['department'])\n",
    "]\n",
    "\n",
    "ct_oe_oh = ColumnTransformer(transformers, remainder='passthrough')\n",
    "\n",
    "X_oe_oh = ct_oe_oh.fit_transform(X).todense()\n",
    "print(X_oe_oh)"
   ]
  },
  {
   "cell_type": "code",
   "execution_count": 50,
   "id": "92168b64-f793-45e4-894a-2bd11a929627",
   "metadata": {},
   "outputs": [
    {
     "data": {
      "text/plain": [
       "array(['x0_IT', 'x0_RandD', 'x0_accounting', 'x0_hr', 'x0_management',\n",
       "       'x0_marketing', 'x0_product_mng', 'x0_sales', 'x0_support',\n",
       "       'x0_technical'], dtype=object)"
      ]
     },
     "execution_count": 50,
     "metadata": {},
     "output_type": "execute_result"
    }
   ],
   "source": [
    "ct_oe_oh.transformers_[1][1].get_feature_names()"
   ]
  },
  {
   "cell_type": "code",
   "execution_count": null,
   "id": "a6a01cfb-fa39-4167-a544-b411736d620f",
   "metadata": {},
   "outputs": [
    {
     "data": {
      "application/vnd.jupyter.widget-view+json": {
       "model_id": "1fcb0a800b034b3cbd2b6b70fb8fd48f",
       "version_major": 2,
       "version_minor": 0
      },
      "text/plain": [
       "Folds avaliados:   0%|          | 0/10 [00:00<?, ?it/s]"
      ]
     },
     "metadata": {},
     "output_type": "display_data"
    }
   ],
   "source": [
    "acuracias = do_cv_knn(X_oe_oh, y, 10, range(1, 30, 2))"
   ]
  },
  {
   "cell_type": "code",
   "execution_count": null,
   "id": "02cebe70-6fdb-4bb8-ae9d-10f6529e48d7",
   "metadata": {},
   "outputs": [],
   "source": [
    "print(min(acuracias))\n",
    "print(max(acuracias))\n",
    "print(np.mean(acuracias))\n",
    "print(np.std(acuracias))"
   ]
  }
 ],
 "metadata": {
  "kernelspec": {
   "display_name": "Python 3",
   "language": "python",
   "name": "python3"
  },
  "language_info": {
   "codemirror_mode": {
    "name": "ipython",
    "version": 3
   },
   "file_extension": ".py",
   "mimetype": "text/x-python",
   "name": "python",
   "nbconvert_exporter": "python",
   "pygments_lexer": "ipython3",
   "version": "3.8.8"
  }
 },
 "nbformat": 4,
 "nbformat_minor": 5
}
