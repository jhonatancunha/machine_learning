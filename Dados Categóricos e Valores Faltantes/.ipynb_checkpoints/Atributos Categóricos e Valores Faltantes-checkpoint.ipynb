{
 "cells": [
  {
   "cell_type": "code",
   "execution_count": 1,
   "id": "831dc897-6df1-419c-9da8-fd69afffa3de",
   "metadata": {},
   "outputs": [],
   "source": [
    "import pandas as pd\n",
    "import numpy as np \n",
    "import imblearn as ibl\n",
    "import seaborn as sns\n",
    "import matplotlib.pyplot as plt\n",
    "from sklearn.neighbors import KNeighborsClassifier\n",
    "from sklearn.preprocessing import StandardScaler\n",
    "from sklearn.metrics import accuracy_score\n",
    "from sklearn.model_selection import GridSearchCV, train_test_split, StratifiedKFold\n",
    "from utils import selecionar_melhor_k_knn, do_cv_knn"
   ]
  },
  {
   "cell_type": "markdown",
   "id": "d805763a-b119-4dd6-8957-6a622a7a6f78",
   "metadata": {},
   "source": [
    "# Atributos Categóricos e Valores Faltantes\n",
    "\n",
    "## Atributos Categóricos\n",
    "\n",
    "Algumas bases de dados contém atributos categóricos. Os valores destes atributos não assumem valores numéricos.  Exemplos de atributos categóricos incluem: \"genero\" que pode assumir os valores \"masculino\", \"feminino\" ou \"outros\"; \"cargo\" que pode assumir os valores \"executivo\", \"gerente\" ou \"técnico\"; entre outros. Como os valores não são numéricos é impossível representar *diretamente* instâncias que contém atributos categóricos em um espaço euclidiano de características ($\\mathbb{R}^n$). Como consequência, não é possível usar métodos de classificação que operam no espaço euclidiano (como o KNN) em bases de dados com atributos categóricos. Nesta aula vamos aprender algumas formas de transformar atributos categóricos em atributos numéricos, possibilitando a construção de modelos que operam no espaço euclidiano.\n",
    "\n",
    "Nesta aula vamos usar um subconjunto dos atributos da base de dados *employee*. As instâncias dessa base de dados representam vários empregados de uma empresa. Os atributos de entrada descrevem alguns dados coletados sobre os empregados, como avaliações, horas trabalhadas e informações sobre promoções, acidentes de trabalho, departamento e faixa salarial. O atributo de saída (*left*) indica se o empregado deixou a empresa. Estamos deixando alguns atributos de fora para dificultar um pouco o problema de classificação."
   ]
  },
  {
   "cell_type": "code",
   "execution_count": 2,
   "id": "a9259d1c-3be6-40d0-ba83-ccadf6cd1b16",
   "metadata": {},
   "outputs": [
    {
     "data": {
      "text/html": [
       "<div>\n",
       "<style scoped>\n",
       "    .dataframe tbody tr th:only-of-type {\n",
       "        vertical-align: middle;\n",
       "    }\n",
       "\n",
       "    .dataframe tbody tr th {\n",
       "        vertical-align: top;\n",
       "    }\n",
       "\n",
       "    .dataframe thead th {\n",
       "        text-align: right;\n",
       "    }\n",
       "</style>\n",
       "<table border=\"1\" class=\"dataframe\">\n",
       "  <thead>\n",
       "    <tr style=\"text-align: right;\">\n",
       "      <th></th>\n",
       "      <th>promotion_last_5years</th>\n",
       "      <th>department</th>\n",
       "      <th>salary</th>\n",
       "      <th>left</th>\n",
       "    </tr>\n",
       "  </thead>\n",
       "  <tbody>\n",
       "    <tr>\n",
       "      <th>0</th>\n",
       "      <td>0</td>\n",
       "      <td>sales</td>\n",
       "      <td>low</td>\n",
       "      <td>1</td>\n",
       "    </tr>\n",
       "    <tr>\n",
       "      <th>1</th>\n",
       "      <td>0</td>\n",
       "      <td>sales</td>\n",
       "      <td>medium</td>\n",
       "      <td>1</td>\n",
       "    </tr>\n",
       "    <tr>\n",
       "      <th>2</th>\n",
       "      <td>0</td>\n",
       "      <td>sales</td>\n",
       "      <td>medium</td>\n",
       "      <td>1</td>\n",
       "    </tr>\n",
       "    <tr>\n",
       "      <th>3</th>\n",
       "      <td>0</td>\n",
       "      <td>sales</td>\n",
       "      <td>low</td>\n",
       "      <td>1</td>\n",
       "    </tr>\n",
       "    <tr>\n",
       "      <th>4</th>\n",
       "      <td>0</td>\n",
       "      <td>sales</td>\n",
       "      <td>low</td>\n",
       "      <td>1</td>\n",
       "    </tr>\n",
       "    <tr>\n",
       "      <th>...</th>\n",
       "      <td>...</td>\n",
       "      <td>...</td>\n",
       "      <td>...</td>\n",
       "      <td>...</td>\n",
       "    </tr>\n",
       "    <tr>\n",
       "      <th>14994</th>\n",
       "      <td>0</td>\n",
       "      <td>support</td>\n",
       "      <td>low</td>\n",
       "      <td>1</td>\n",
       "    </tr>\n",
       "    <tr>\n",
       "      <th>14995</th>\n",
       "      <td>0</td>\n",
       "      <td>support</td>\n",
       "      <td>low</td>\n",
       "      <td>1</td>\n",
       "    </tr>\n",
       "    <tr>\n",
       "      <th>14996</th>\n",
       "      <td>0</td>\n",
       "      <td>support</td>\n",
       "      <td>low</td>\n",
       "      <td>1</td>\n",
       "    </tr>\n",
       "    <tr>\n",
       "      <th>14997</th>\n",
       "      <td>0</td>\n",
       "      <td>support</td>\n",
       "      <td>low</td>\n",
       "      <td>1</td>\n",
       "    </tr>\n",
       "    <tr>\n",
       "      <th>14998</th>\n",
       "      <td>0</td>\n",
       "      <td>support</td>\n",
       "      <td>low</td>\n",
       "      <td>1</td>\n",
       "    </tr>\n",
       "  </tbody>\n",
       "</table>\n",
       "<p>14999 rows × 4 columns</p>\n",
       "</div>"
      ],
      "text/plain": [
       "       promotion_last_5years department  salary  left\n",
       "0                          0      sales     low     1\n",
       "1                          0      sales  medium     1\n",
       "2                          0      sales  medium     1\n",
       "3                          0      sales     low     1\n",
       "4                          0      sales     low     1\n",
       "...                      ...        ...     ...   ...\n",
       "14994                      0    support     low     1\n",
       "14995                      0    support     low     1\n",
       "14996                      0    support     low     1\n",
       "14997                      0    support     low     1\n",
       "14998                      0    support     low     1\n",
       "\n",
       "[14999 rows x 4 columns]"
      ]
     },
     "execution_count": 2,
     "metadata": {},
     "output_type": "execute_result"
    }
   ],
   "source": [
    "df = pd.read_csv('employee.csv')\n",
    "#deixar apenas as 4 ultimas colunas (3 atributos de entrada + 1 de saída)\n",
    "df.drop(df.columns[:-4:1], axis=1, inplace=True)\n",
    "#converter y para numpy array 1d\n",
    "y = df[['left']].values.ravel()\n",
    "X = df.drop('left', axis=1)\n",
    "df"
   ]
  },
  {
   "cell_type": "markdown",
   "id": "f1abd6e7-f7c8-47cd-a5bf-6895da318dc1",
   "metadata": {},
   "source": [
    "### Codificação Ordinal\n",
    "\n",
    "O mapeamento dos valores de atributos categóricos em valores numéricos é denominado **codificação**. A forma mais simples de codificação é a *codificação ordinal*.  Neste esquema, cada valor recebe um código numérico inteiro que o representa. Por exemplo, vamos supor um atributo categórico \"cor\" que pode assumir os valores \"vermelho\", \"verde\", \"azul\" ou \"roxo\". Em uma codificação categórica, poderíamos associar cada valor com um código numérico: \"vermelho\" $\\to$ 0, \"verde\" $\\to$ 1, \"azul\" $\\to$ 2 e \"roxo\" $\\to$ 3. Assim, todas as instâncias que tiverem o valor \"vermelho\" para o atributo \"cor\" passsam a representá-lo como 0, as instâncias com \"cor\" = \"verde\" passam a representá-lo como 1, e assim por diante.\n",
    "\n",
    "O ``sklearn`` oferece a classe ``OrdinalEncoder`` que faz essa codificação automaticamente."
   ]
  },
  {
   "cell_type": "code",
   "execution_count": 3,
   "id": "029ead4c-550b-47f8-bc04-4f45fa5b741e",
   "metadata": {},
   "outputs": [],
   "source": [
    "#Vamos usar o ColumnTransformer para combinar vários encoders em um único \"codificador\"\n",
    "#No exemplo inicial, vamos usar OrdinalEncoder para codificar 2 atributos. Entretanto,\n",
    "#vários encoders diferenes podem ser usados em um único ColumnTransformer, como veremos adiante.\n",
    "from sklearn.compose import ColumnTransformer\n",
    "from sklearn.preprocessing import OrdinalEncoder"
   ]
  },
  {
   "cell_type": "code",
   "execution_count": 4,
   "id": "27a316c7-354c-4d6a-b579-67e0306bb94f",
   "metadata": {},
   "outputs": [
    {
     "name": "stdout",
     "output_type": "stream",
     "text": [
      "[array(['IT', 'RandD', 'accounting', 'hr', 'management', 'marketing',\n",
      "       'product_mng', 'sales', 'support', 'technical'], dtype=object)]\n"
     ]
    }
   ],
   "source": [
    "#A idéia é que o ColumnTransform é construído como uma lista de \"transformers\". No \n",
    "#sklearn as classes que tem os métodos \"transfom\", como OrdinalEncoder, PCA, StandardScaler, etc,\n",
    "#são considerados transformers.\n",
    "\n",
    "#Cada elemento da lista é uma tupla (nome, transformer, lista_de_colunas) que codifica quais colunas (do pandas dataframe)\n",
    "#serão codificadas com aquele transformador. \"nome\" é usado em algumas outras operações que veremos mais adiante.\n",
    "transformers = [\n",
    "    ('oe_department', OrdinalEncoder(), ['department']),\n",
    "    ('oe_salary', OrdinalEncoder(categories=[['low', 'medium', 'high']]), ['salary']),\n",
    "]\n",
    "\n",
    "#construir o transformer de acordo com a lista de transformadores.\n",
    "#O atributo remainder indica o que fazer com os atributos que não foram listados na lista de transformer.\n",
    "#\"passthrough\" indica que esses atributos devem ser apenas copiados para a saída, sem alterações.\n",
    "ct = ColumnTransformer(\n",
    "    transformers, remainder='passthrough'\n",
    ")\n",
    "#Deduzir todos os códigos dos encoders e já fazer a codificação. É importante ressaltar que a saída é um numpy.ndarray,\n",
    "#e não um pandas DataFrame.\n",
    "X_oe = ct.fit_transform(X)\n",
    "#Imprime as categorias do transformer 0. Note que como \"IT\" está na primeira posição, ele é o código 0,\n",
    "#RandD é código 1, e assim por diante.\n",
    "print(ct.transformers_[0][1].categories_)"
   ]
  },
  {
   "cell_type": "markdown",
   "id": "6fa5c981-9970-4a5c-8fad-fe06febed743",
   "metadata": {},
   "source": [
    "Note que fizemos a codificação dos atributos categóricos de todas as instâncias da base de dados em conjunto, sem a separação entre conjunto de treinamento e teste. Neste caso não é um problema, uma vez que apenas estamos convertendo a base de dados para uma versão equivalente, sem atributos categóricos. Entretanto, caso queira codificar mais dados, como no caso de usar o modelo em dados do mundo real, basta usar o método ``ct.transform``."
   ]
  },
  {
   "cell_type": "code",
   "execution_count": 5,
   "id": "78781983-7671-42e7-8fe8-17c46c823d36",
   "metadata": {},
   "outputs": [
    {
     "data": {
      "application/vnd.jupyter.widget-view+json": {
       "model_id": "b6921211255746db8f98e531a589947d",
       "version_major": 2,
       "version_minor": 0
      },
      "text/plain": [
       "Folds avaliados:   0%|          | 0/10 [00:00<?, ?it/s]"
      ]
     },
     "metadata": {},
     "output_type": "display_data"
    }
   ],
   "source": [
    "accs = do_cv_knn(X_oe, y, 10, range(1,20,2))"
   ]
  },
  {
   "cell_type": "code",
   "execution_count": 6,
   "id": "0b5dec94-cae8-4e9b-bee6-466f519ee529",
   "metadata": {},
   "outputs": [
    {
     "name": "stdout",
     "output_type": "stream",
     "text": [
      "acurácia - min: 0.69, max: 0.76, avg +- std: 0.74+-0.02\n"
     ]
    }
   ],
   "source": [
    "print(\"acurácia - min: %.2f, max: %.2f, avg +- std: %.2f+-%.2f\" % (min(accs), max(accs), np.mean(accs), np.std(accs)))"
   ]
  },
  {
   "cell_type": "markdown",
   "id": "b5b6099f-4507-4288-8659-19eb945d7a41",
   "metadata": {},
   "source": [
    "Os atributos que possuem uma relação de ordem intrínseca, como é o caso do atributo *salary* acima, cujos valores \"low\", \"medium\" e \"high\" representam a ordem crescente de salários são bons candidatos a serem codificados por um codificador ordinal. Por isso, não é surpreendente que tais atributos sejam denominados *atributos ordinais*. Note que as categorias foram passadas explicitamente ao construtor: ``OrdinalEncoder(categories=[['low', 'medium', 'high']])``, indicando a ordem das categorias. Desta forma, \"low\" $\\to$ 0, \"medium\" $\\to$ 1 e \"high\" $\\to$ 2.\n",
    "\n",
    "Embora a codificação ordinal seja simples e fácil de entender, ela não é adequada para codificar qualquer tipo de atributo categórico. Isto porque alguns algoritmos de aprendizagem de máquina consideram que suas entradas são contínuas, e, por consequencia, considerariam que as categorias (valores do atributo categórico) como ordenadas. Isto não faz sentido para alguns atributos. Por exemplo, alguns algoritmos de aprendizagem de máquina poderiam considerar os valores do atributo *department* podem ter uma relação de ordem. Entretanto, esta relação não existe: queremos apenas diferenciar departamentos diferentes que os empregados podem estar vinculados. Atributos que não apresentam uma relação de ordem, como *department*, são chamados de *atributos nominais*, e normalmente usam outra codificação, como *One-Hot encoding*, que veremos a seguir. "
   ]
  },
  {
   "attachments": {
    "e6180a6a-52d4-4bac-bc52-9dae46ba3eeb.png": {
     "image/png": "[encoded data removed]"
    }
   },
   "cell_type": "markdown",
   "id": "afc8ea6d-9a02-4e89-9634-419645503d6d",
   "metadata": {},
   "source": [
    "### One-Hot Encoding (dummy variable encoding)\n",
    "\n",
    "Neste esquema de codificação, um atributo categórico com $n$ categorias é codificado em $n$ atributos binários, um deles com valor 1, que representa o valor do atributo para aquela instância, e os demais com valor 0. A Figura abaixo mostra um exemplo de codificação one-hot:\n",
    "\n",
    "<div align='center'>\n",
    "<img src=\"attachment:e6180a6a-52d4-4bac-bc52-9dae46ba3eeb.png\" width=600 align='center' />\n",
    "</div>\n",
    "\n",
    "Note como a coluna *salary* foi codificada em três colunas, uma para cada categoria: *salary_low*, *salary_medium* e *salary_high*. Este esquema de codificação é adequado para atributos nominais, como o atributo *department* do exemplo.\n",
    "\n",
    "O ``sklearn`` oferece a classe ``OneHotEncoder``  que implementa esta codificação."
   ]
  },
  {
   "cell_type": "code",
   "execution_count": 7,
   "id": "cd9bf77d-3a25-479b-bbd6-9ce832347155",
   "metadata": {},
   "outputs": [],
   "source": [
    "from sklearn.preprocessing import OneHotEncoder\n",
    "\n",
    "transformers = [\n",
    "    ('oh_department', OneHotEncoder(), ['department']),\n",
    "    ('oh_salary', OneHotEncoder(), ['salary']),\n",
    "]\n",
    "\n",
    "ct_oh = ColumnTransformer(\n",
    "    transformers, remainder='passthrough'\n",
    ")\n",
    "\n",
    "#O sklearn detecta que esta codificação pode levar a uma matriz esparsa (com muitos zeros). Entretanto, em nosso modelo\n",
    "#estamos supondo que a matriz é densa. O método todense da classe numpy.ndarray serve para obter a matriz de saída como\n",
    "#uma matriz densa ao invés de uma matriz esparsa.\n",
    "X_oh = ct_oh.fit_transform(X).todense()"
   ]
  },
  {
   "cell_type": "code",
   "execution_count": 8,
   "id": "ad27889f-57a9-492e-ba8f-783966b6ac45",
   "metadata": {},
   "outputs": [
    {
     "data": {
      "text/plain": [
       "(['oh_department__x0_IT',\n",
       "  'oh_department__x0_RandD',\n",
       "  'oh_department__x0_accounting',\n",
       "  'oh_department__x0_hr',\n",
       "  'oh_department__x0_management',\n",
       "  'oh_department__x0_marketing',\n",
       "  'oh_department__x0_product_mng',\n",
       "  'oh_department__x0_sales',\n",
       "  'oh_department__x0_support',\n",
       "  'oh_department__x0_technical',\n",
       "  'oh_salary__x0_high',\n",
       "  'oh_salary__x0_low',\n",
       "  'oh_salary__x0_medium',\n",
       "  'promotion_last_5years'],\n",
       " (14999, 14),\n",
       " (14999, 3))"
      ]
     },
     "execution_count": 8,
     "metadata": {},
     "output_type": "execute_result"
    }
   ],
   "source": [
    "ct_oh.get_feature_names(), X_oh.shape, X.shape"
   ]
  },
  {
   "cell_type": "markdown",
   "id": "434389d1-79a7-4c1b-bb68-38079b1bd960",
   "metadata": {},
   "source": [
    "Note os nomes dos atributos após a codificação one-hot. Veja que um atributo foi criado para cada categoria dos atributos *department* e *salary*. Com isto, a dimensionalidade do vetor de características passou de 3 pra 14. Por consequência, a validação cruzada demorará mais para executar:"
   ]
  },
  {
   "cell_type": "code",
   "execution_count": 9,
   "id": "777356f3-d009-4d47-a531-106f2bf782d8",
   "metadata": {},
   "outputs": [
    {
     "data": {
      "application/vnd.jupyter.widget-view+json": {
       "model_id": "bfd5527698e64f8cbc37a45b8b0d3d60",
       "version_major": 2,
       "version_minor": 0
      },
      "text/plain": [
       "Folds avaliados:   0%|          | 0/10 [00:00<?, ?it/s]"
      ]
     },
     "metadata": {},
     "output_type": "display_data"
    }
   ],
   "source": [
    "accs = do_cv_knn(X_oh, y, 10, range(1,20,2))"
   ]
  },
  {
   "cell_type": "code",
   "execution_count": 10,
   "id": "5eff9e6e-b055-444f-bad5-1f3e0659d654",
   "metadata": {},
   "outputs": [
    {
     "name": "stdout",
     "output_type": "stream",
     "text": [
      "acurácia - min: 0.73, max: 0.76, avg +- std: 0.75+-0.01\n"
     ]
    }
   ],
   "source": [
    "print(\"acurácia - min: %.2f, max: %.2f, avg +- std: %.2f+-%.2f\" % (min(accs), max(accs), np.mean(accs), np.std(accs)))"
   ]
  },
  {
   "cell_type": "markdown",
   "id": "67bdc107-c1e6-4855-b9c9-83d2e791386d",
   "metadata": {},
   "source": [
    "Note que o resultado obtido usando apenas codificação ordinal ($0.74 \\pm 0.02$) foi muito semelhante ao resultado no qual codificamos os atributos usando apenas codificação one-hot ($0.75 \\pm 0.01$). Na aula que vem iremos aprender como comparar modelos para descobrir se a diferença nos resultados é estatisticamente significativa.\n",
    "\n",
    "A seguir vamos verificar o que acontece com essa base de dados, se usarmos encoders diferentes para cada atributo."
   ]
  },
  {
   "cell_type": "markdown",
   "id": "7cff5d59-a52f-4437-8a21-0c204adbbcbb",
   "metadata": {},
   "source": [
    "### Combinando *encoders* diferentes\n",
    "\n",
    "Conforme foi discutido acima, é recomendado usar codificação one-hot para atributos nominais e codificação ordinal para atributos ordinais. Usando ``ColumnTransformer`` é bem simples aplicar codificadores diferentes em colunas diferentes."
   ]
  },
  {
   "cell_type": "code",
   "execution_count": 11,
   "id": "635a6760-2357-4d50-9663-40a21ed65655",
   "metadata": {},
   "outputs": [],
   "source": [
    "#Note que agora estamos usando OneHotEncoder para codificar o departamento e \n",
    "# OrdinalEncoder para codificar as faixas salariais\n",
    "transformers = [\n",
    "    ('oh_department', OneHotEncoder(), ['department']),\n",
    "    ('oe_salary', OrdinalEncoder(categories=[['low', 'medium', 'high']]), ['salary']),\n",
    "]\n",
    "\n",
    "ct_ohoe = ColumnTransformer(\n",
    "    transformers, remainder='passthrough'\n",
    ")\n",
    "X_ohoe = ct_ohoe.fit_transform(X).todense()"
   ]
  },
  {
   "cell_type": "code",
   "execution_count": 12,
   "id": "20e7d29f-835a-4e4e-9e39-a62b97f5a733",
   "metadata": {},
   "outputs": [
    {
     "data": {
      "text/plain": [
       "((14999, 12), (14999, 3))"
      ]
     },
     "execution_count": 12,
     "metadata": {},
     "output_type": "execute_result"
    }
   ],
   "source": [
    "X_ohoe.shape, X.shape"
   ]
  },
  {
   "cell_type": "markdown",
   "id": "7c86c9a5-d42f-45ef-bcde-e307b5feddbe",
   "metadata": {},
   "source": [
    "Desta vez o número de atributos passou de 3 para 12."
   ]
  },
  {
   "cell_type": "code",
   "execution_count": 13,
   "id": "ce8f2527-cd93-4b55-84f8-0a61565cf873",
   "metadata": {},
   "outputs": [
    {
     "data": {
      "application/vnd.jupyter.widget-view+json": {
       "model_id": "84abc0bca34a4279986e0aaf9428601a",
       "version_major": 2,
       "version_minor": 0
      },
      "text/plain": [
       "Folds avaliados:   0%|          | 0/10 [00:00<?, ?it/s]"
      ]
     },
     "metadata": {},
     "output_type": "display_data"
    }
   ],
   "source": [
    "accs = do_cv_knn(X_ohoe, y, 10, range(1,20,2))"
   ]
  },
  {
   "cell_type": "code",
   "execution_count": 14,
   "id": "01dafa94-0231-424f-bb07-2972fc7642f0",
   "metadata": {},
   "outputs": [
    {
     "name": "stdout",
     "output_type": "stream",
     "text": [
      "acurácia - min: 0.73, max: 0.76, avg +- std: 0.75+-0.01\n"
     ]
    }
   ],
   "source": [
    "print(\"acurácia - min: %.2f, max: %.2f, avg +- std: %.2f+-%.2f\" % (min(accs), max(accs), np.mean(accs), np.std(accs)))"
   ]
  },
  {
   "cell_type": "markdown",
   "id": "5a76039e-9fe1-45b4-a767-345381a33410",
   "metadata": {},
   "source": [
    "Nesta base de dados o resultado obtido codificando os atributos categóricos com encoders apropriados não foi muito diferente dos resultados obtidos com as duas outras estratégias que avaliamos. Entretanto, isto nem sempre acontece. É importante avaliar diferentes combinações de técnicas de codificação de atributos categóricos para obter melhores resultados."
   ]
  },
  {
   "cell_type": "markdown",
   "id": "464f78eb-f120-40d0-8fa3-8e95de5fa7ec",
   "metadata": {},
   "source": [
    "# Valores Faltantes\n",
    "\n",
    "Não é incomum trabalhar com bases de dados que contenham instâncias com valores desconhecidos para alguns atributos. Nesta aula vamos estudar algumas técnicas simples para lidar com valores faltantes.\n",
    "\n",
    "Usaremos novamente um subconjunto de atributos da base de dados *employee*. Entretanto, desta vez vamos usar uma versão dessa base de dados que contém instâncias com valores faltantes para alguns atributos."
   ]
  },
  {
   "cell_type": "code",
   "execution_count": 19,
   "id": "d51c1290-8749-4fb5-a56c-f24acee538a1",
   "metadata": {},
   "outputs": [
    {
     "data": {
      "text/html": [
       "<div>\n",
       "<style scoped>\n",
       "    .dataframe tbody tr th:only-of-type {\n",
       "        vertical-align: middle;\n",
       "    }\n",
       "\n",
       "    .dataframe tbody tr th {\n",
       "        vertical-align: top;\n",
       "    }\n",
       "\n",
       "    .dataframe thead th {\n",
       "        text-align: right;\n",
       "    }\n",
       "</style>\n",
       "<table border=\"1\" class=\"dataframe\">\n",
       "  <thead>\n",
       "    <tr style=\"text-align: right;\">\n",
       "      <th></th>\n",
       "      <th>promotion_last_5years</th>\n",
       "      <th>department</th>\n",
       "      <th>salary</th>\n",
       "      <th>left</th>\n",
       "    </tr>\n",
       "  </thead>\n",
       "  <tbody>\n",
       "    <tr>\n",
       "      <th>0</th>\n",
       "      <td>0.0</td>\n",
       "      <td>sales</td>\n",
       "      <td>low</td>\n",
       "      <td>1</td>\n",
       "    </tr>\n",
       "    <tr>\n",
       "      <th>1</th>\n",
       "      <td>0.0</td>\n",
       "      <td>sales</td>\n",
       "      <td>medium</td>\n",
       "      <td>1</td>\n",
       "    </tr>\n",
       "    <tr>\n",
       "      <th>2</th>\n",
       "      <td>0.0</td>\n",
       "      <td>sales</td>\n",
       "      <td>medium</td>\n",
       "      <td>1</td>\n",
       "    </tr>\n",
       "    <tr>\n",
       "      <th>3</th>\n",
       "      <td>0.0</td>\n",
       "      <td>sales</td>\n",
       "      <td>low</td>\n",
       "      <td>1</td>\n",
       "    </tr>\n",
       "    <tr>\n",
       "      <th>4</th>\n",
       "      <td>0.0</td>\n",
       "      <td>sales</td>\n",
       "      <td>low</td>\n",
       "      <td>1</td>\n",
       "    </tr>\n",
       "    <tr>\n",
       "      <th>...</th>\n",
       "      <td>...</td>\n",
       "      <td>...</td>\n",
       "      <td>...</td>\n",
       "      <td>...</td>\n",
       "    </tr>\n",
       "    <tr>\n",
       "      <th>14994</th>\n",
       "      <td>0.0</td>\n",
       "      <td>support</td>\n",
       "      <td>low</td>\n",
       "      <td>1</td>\n",
       "    </tr>\n",
       "    <tr>\n",
       "      <th>14995</th>\n",
       "      <td>0.0</td>\n",
       "      <td>support</td>\n",
       "      <td>low</td>\n",
       "      <td>1</td>\n",
       "    </tr>\n",
       "    <tr>\n",
       "      <th>14996</th>\n",
       "      <td>0.0</td>\n",
       "      <td>support</td>\n",
       "      <td>low</td>\n",
       "      <td>1</td>\n",
       "    </tr>\n",
       "    <tr>\n",
       "      <th>14997</th>\n",
       "      <td>0.0</td>\n",
       "      <td>support</td>\n",
       "      <td>low</td>\n",
       "      <td>1</td>\n",
       "    </tr>\n",
       "    <tr>\n",
       "      <th>14998</th>\n",
       "      <td>0.0</td>\n",
       "      <td>support</td>\n",
       "      <td>low</td>\n",
       "      <td>1</td>\n",
       "    </tr>\n",
       "  </tbody>\n",
       "</table>\n",
       "<p>14999 rows × 4 columns</p>\n",
       "</div>"
      ],
      "text/plain": [
       "       promotion_last_5years department  salary  left\n",
       "0                        0.0      sales     low     1\n",
       "1                        0.0      sales  medium     1\n",
       "2                        0.0      sales  medium     1\n",
       "3                        0.0      sales     low     1\n",
       "4                        0.0      sales     low     1\n",
       "...                      ...        ...     ...   ...\n",
       "14994                    0.0    support     low     1\n",
       "14995                    0.0    support     low     1\n",
       "14996                    0.0    support     low     1\n",
       "14997                    0.0    support     low     1\n",
       "14998                    0.0    support     low     1\n",
       "\n",
       "[14999 rows x 4 columns]"
      ]
     },
     "execution_count": 19,
     "metadata": {},
     "output_type": "execute_result"
    }
   ],
   "source": [
    "df = pd.read_csv('employee_nans.csv')\n",
    "df.drop(df.columns[:-4:1], axis=1, inplace=True)\n",
    "y = df[['left']].values.ravel()\n",
    "X = df.drop('left', axis=1)\n",
    "df"
   ]
  },
  {
   "cell_type": "markdown",
   "id": "39f701f3-de70-4016-af83-e5e1a74d140f",
   "metadata": {},
   "source": [
    "Note que os valores faltantes são representados como *NaN* (*not a number*) pelo pandas. Estes valores são iguais a ``np.nan``.\n",
    "\n",
    "Para verificar rapidamente se há algum valor faltante no DataFrame basta:"
   ]
  },
  {
   "cell_type": "code",
   "execution_count": 20,
   "id": "1f4818e8-3389-4845-83e5-6ffa506e813f",
   "metadata": {},
   "outputs": [
    {
     "data": {
      "text/plain": [
       "2279"
      ]
     },
     "execution_count": 20,
     "metadata": {},
     "output_type": "execute_result"
    }
   ],
   "source": [
    "#retorna a quantidade de valores faltantes no dataframe\n",
    "df.isnull().sum().sum()"
   ]
  },
  {
   "cell_type": "markdown",
   "id": "c0f31193-281b-4bee-988a-b781cef28077",
   "metadata": {},
   "source": [
    "Note que há 2279 valores faltantes na base de dados."
   ]
  },
  {
   "cell_type": "markdown",
   "id": "37feb884-d810-45e5-813d-865125e3f930",
   "metadata": {},
   "source": [
    "## Exclusão das instâncias com valores faltantes\n",
    "\n",
    "A estratégia mais simples para lidar com valores faltantes é simplesmente ignorar todas as instâncias que contenham pelo menos um valor faltante."
   ]
  },
  {
   "cell_type": "code",
   "execution_count": 21,
   "id": "98ad74fd-14c9-4fd2-ad6c-0c29c564732c",
   "metadata": {},
   "outputs": [
    {
     "name": "stdout",
     "output_type": "stream",
     "text": [
      "shape da base de dados antes de excluir as instâncias com valores faltantes: (14999, 4)\n",
      "shape da base de dados APÓS excluir as instâncias com valores faltantes: (12815, 4)\n"
     ]
    },
    {
     "data": {
      "text/plain": [
       "0"
      ]
     },
     "execution_count": 21,
     "metadata": {},
     "output_type": "execute_result"
    }
   ],
   "source": [
    "print(\"shape da base de dados antes de excluir as instâncias com valores faltantes: %s\" % (str(df.shape)))\n",
    "df.dropna(inplace=True)\n",
    "\n",
    "y = df[['left']].values.ravel()\n",
    "X = df.drop('left', axis=1)\n",
    "\n",
    "print(\"shape da base de dados APÓS excluir as instâncias com valores faltantes: %s\" % (str(df.shape)))\n",
    "\n",
    "df.isnull().sum().sum()"
   ]
  },
  {
   "cell_type": "markdown",
   "id": "448f39de-5994-4fd3-9676-682c704cc7c2",
   "metadata": {},
   "source": [
    "Lembrando que 2 dos 3 atributos são categóricos, é necessário fazer a codificação para valores numéricos usando codificação *one-hot* para o atributo nominal (*department*) e codificação ordinal para o atributo ordinal (*salary*)."
   ]
  },
  {
   "cell_type": "code",
   "execution_count": 23,
   "id": "2b4a41b0-e21e-4144-8a91-cd93e6da858f",
   "metadata": {},
   "outputs": [
    {
     "data": {
      "application/vnd.jupyter.widget-view+json": {
       "model_id": "c4fa8ef08ec340d885a5cdb30e0943b1",
       "version_major": 2,
       "version_minor": 0
      },
      "text/plain": [
       "Folds avaliados:   0%|          | 0/10 [00:00<?, ?it/s]"
      ]
     },
     "metadata": {},
     "output_type": "display_data"
    }
   ],
   "source": [
    "transformers = [\n",
    "    ('oh_department', OneHotEncoder(), ['department']),\n",
    "    ('oe_salary', OrdinalEncoder(categories=[['low', 'medium', 'high']]), ['salary']),\n",
    "]\n",
    "\n",
    "ct_ohoe = ColumnTransformer(\n",
    "    transformers, remainder='passthrough'\n",
    ")\n",
    "X_ohoe = ct_ohoe.fit_transform(X).todense()\n",
    "accs = do_cv_knn(X_ohoe, y, 10, range(1,20,2))"
   ]
  },
  {
   "cell_type": "code",
   "execution_count": 24,
   "id": "77bb261d-949c-4fe6-ae9c-39bf13fe6b1e",
   "metadata": {},
   "outputs": [
    {
     "name": "stdout",
     "output_type": "stream",
     "text": [
      "acurácia - min: 0.66, max: 0.76, avg +- std: 0.74+-0.03\n"
     ]
    }
   ],
   "source": [
    "print(\"acurácia - min: %.2f, max: %.2f, avg +- std: %.2f+-%.2f\" % (min(accs), max(accs), np.mean(accs), np.std(accs)))"
   ]
  },
  {
   "cell_type": "markdown",
   "id": "4258342f-2dd8-44ed-8b51-42c2f5d4b399",
   "metadata": {},
   "source": [
    "Na prática a exclusão de instâncias que contenham atributos faltantes não permite realizar predições de novas instâncias que contenham atributos faltantes. Uma alternativa é substituir valores faltantes por algum valor que seja adequado, tanto nas instâncias de treinamento quanto nas instâncias de teste."
   ]
  },
  {
   "cell_type": "markdown",
   "id": "3e739fda-189a-4587-aebd-ac1be7dbcec7",
   "metadata": {},
   "source": [
    "## Substituição de valores faltantes (Imputação)\n",
    "\n",
    "Outra estratégia usada para lidar com valores faltantes é simplesmente substituir os valores faltantes por algum outro valor. Esta substituição também é conhecida como **imputação**. Existem muitas formas de fazer a imputação e a forma adequada depende de muitos fatores. Hoje vamos estudar estratégias *univariadas*, ou seja, os valores imputados dependem somente do próprio atributo. Em constraste, também existem estratégias *multivariadas*, que são usadas para estimar um valor faltante em função dos valores de outros atributos.\n",
    "\n",
    "Lembre-se que os algoritmos de aprendizagem necessitam de atributos numéricos, e que o valor que representa valores desconhecidos, NaN, não é numérico. Assim, a imputação é um passo fundamental para lidar com valores faltantes."
   ]
  },
  {
   "cell_type": "code",
   "execution_count": 57,
   "id": "b5c7588d-723e-48ee-8c1a-48ecbc1e1a45",
   "metadata": {},
   "outputs": [
    {
     "data": {
      "text/html": [
       "<div>\n",
       "<style scoped>\n",
       "    .dataframe tbody tr th:only-of-type {\n",
       "        vertical-align: middle;\n",
       "    }\n",
       "\n",
       "    .dataframe tbody tr th {\n",
       "        vertical-align: top;\n",
       "    }\n",
       "\n",
       "    .dataframe thead th {\n",
       "        text-align: right;\n",
       "    }\n",
       "</style>\n",
       "<table border=\"1\" class=\"dataframe\">\n",
       "  <thead>\n",
       "    <tr style=\"text-align: right;\">\n",
       "      <th></th>\n",
       "      <th>promotion_last_5years</th>\n",
       "      <th>department</th>\n",
       "      <th>salary</th>\n",
       "      <th>left</th>\n",
       "    </tr>\n",
       "  </thead>\n",
       "  <tbody>\n",
       "    <tr>\n",
       "      <th>0</th>\n",
       "      <td>0.0</td>\n",
       "      <td>sales</td>\n",
       "      <td>low</td>\n",
       "      <td>1</td>\n",
       "    </tr>\n",
       "    <tr>\n",
       "      <th>1</th>\n",
       "      <td>0.0</td>\n",
       "      <td>sales</td>\n",
       "      <td>medium</td>\n",
       "      <td>1</td>\n",
       "    </tr>\n",
       "    <tr>\n",
       "      <th>2</th>\n",
       "      <td>0.0</td>\n",
       "      <td>sales</td>\n",
       "      <td>medium</td>\n",
       "      <td>1</td>\n",
       "    </tr>\n",
       "    <tr>\n",
       "      <th>3</th>\n",
       "      <td>0.0</td>\n",
       "      <td>sales</td>\n",
       "      <td>low</td>\n",
       "      <td>1</td>\n",
       "    </tr>\n",
       "    <tr>\n",
       "      <th>4</th>\n",
       "      <td>0.0</td>\n",
       "      <td>sales</td>\n",
       "      <td>low</td>\n",
       "      <td>1</td>\n",
       "    </tr>\n",
       "    <tr>\n",
       "      <th>...</th>\n",
       "      <td>...</td>\n",
       "      <td>...</td>\n",
       "      <td>...</td>\n",
       "      <td>...</td>\n",
       "    </tr>\n",
       "    <tr>\n",
       "      <th>14994</th>\n",
       "      <td>0.0</td>\n",
       "      <td>support</td>\n",
       "      <td>low</td>\n",
       "      <td>1</td>\n",
       "    </tr>\n",
       "    <tr>\n",
       "      <th>14995</th>\n",
       "      <td>0.0</td>\n",
       "      <td>support</td>\n",
       "      <td>low</td>\n",
       "      <td>1</td>\n",
       "    </tr>\n",
       "    <tr>\n",
       "      <th>14996</th>\n",
       "      <td>0.0</td>\n",
       "      <td>support</td>\n",
       "      <td>low</td>\n",
       "      <td>1</td>\n",
       "    </tr>\n",
       "    <tr>\n",
       "      <th>14997</th>\n",
       "      <td>0.0</td>\n",
       "      <td>support</td>\n",
       "      <td>low</td>\n",
       "      <td>1</td>\n",
       "    </tr>\n",
       "    <tr>\n",
       "      <th>14998</th>\n",
       "      <td>0.0</td>\n",
       "      <td>support</td>\n",
       "      <td>low</td>\n",
       "      <td>1</td>\n",
       "    </tr>\n",
       "  </tbody>\n",
       "</table>\n",
       "<p>14999 rows × 4 columns</p>\n",
       "</div>"
      ],
      "text/plain": [
       "       promotion_last_5years department  salary  left\n",
       "0                        0.0      sales     low     1\n",
       "1                        0.0      sales  medium     1\n",
       "2                        0.0      sales  medium     1\n",
       "3                        0.0      sales     low     1\n",
       "4                        0.0      sales     low     1\n",
       "...                      ...        ...     ...   ...\n",
       "14994                    0.0    support     low     1\n",
       "14995                    0.0    support     low     1\n",
       "14996                    0.0    support     low     1\n",
       "14997                    0.0    support     low     1\n",
       "14998                    0.0    support     low     1\n",
       "\n",
       "[14999 rows x 4 columns]"
      ]
     },
     "execution_count": 57,
     "metadata": {},
     "output_type": "execute_result"
    }
   ],
   "source": [
    "df = pd.read_csv('employee_nans.csv')\n",
    "df.drop(df.columns[:-4:1], axis=1, inplace=True)\n",
    "y = df[['left']].values.ravel()\n",
    "X = df.drop('left', axis=1)\n",
    "df"
   ]
  },
  {
   "cell_type": "code",
   "execution_count": 26,
   "id": "b25c720f-61a0-48ad-bb36-6e44f6319b6d",
   "metadata": {},
   "outputs": [
    {
     "data": {
      "text/plain": [
       "2279"
      ]
     },
     "execution_count": 26,
     "metadata": {},
     "output_type": "execute_result"
    }
   ],
   "source": [
    "df.isnull().sum().sum()"
   ]
  },
  {
   "cell_type": "markdown",
   "id": "9350bf22-6432-4202-bf25-898bf34f5ac2",
   "metadata": {},
   "source": [
    "Uma estratégia de imputação comum para atributos numéricos é substituir valores desconhecidos por alguma estatística calculada sobre os valores não-faltantes do mesmo atributo. Estatísticas comuns são a média, a mediana e o valor mais frequente. Este tipo de estratégia é mais comumente usada para imputar valores faltantes a atributos numéricos.\n",
    "\n",
    "A estratégia mais simples de imputação consiste em substituir todos os valores desconhecidos por um valor constante. Esta estratégia é bastante utilizada para imputar valores em atributos categóricos, uma vez que as estratégias baseadas em estatística descritiva não são aplicáveis nestes atributos. Entretanto a substituição por valor constante também pode ser usada para atributos numéricos.\n",
    "\n",
    "A biblioteca ``sklearn`` oferece a classe ``SimpleImputer``, que já implementa várias estratégias univariadas para imputação de valores faltantes."
   ]
  },
  {
   "cell_type": "code",
   "execution_count": 58,
   "id": "977bf02f-f2ea-46a7-9d8b-42f877cfe4f7",
   "metadata": {},
   "outputs": [],
   "source": [
    "from sklearn.impute import SimpleImputer\n",
    "\n",
    "atributos_numericos = ['promotion_last_5years']\n",
    "atributos_categoricos = ['department', 'salary']\n",
    "\n",
    "#Vamos usar a estratégia de imputar a média no lugar de valores faltantes para o atributo promotion_last_5years.\n",
    "#Para isso, indicamos strategy=\"mean\" para o construtor do SimpleImputer.\n",
    "#Para os atributos categóricos, vamos apenas substituir os valores faltantes por \"desconhecido\".\n",
    "#Para isso, indicamos strategy=\"constant\" e fill_value=\"desconhecido\".\n",
    "transformers = [\n",
    "    ('imp_num', SimpleImputer(strategy='mean'), atributos_numericos),\n",
    "    ('imp_cat', SimpleImputer(strategy='constant', fill_value='desconhecido'), atributos_categoricos)\n",
    "]\n",
    "#Para simplificar, vamos usar o ColumnTransformer para aplicar a imputação nos atributos numéricos e categóricos \"de uma vez\"\n",
    "#Note que estamos usando a MESMA INSTÂNCIA do SimpleImputer para ambos atributos_categoricos, uma vez que queremos\n",
    "#substituir qualquer valor faltante por 'desconhecido'. Caso quisessemos atribuir valores diferentes para representar os desconhecidos\n",
    "#precisariamos de duas instâncias separadas.\n",
    "\n",
    "ct_imp = ColumnTransformer(\n",
    "    transformers, remainder='drop'\n",
    ")\n",
    "\n",
    "X_imp_vals = ct_imp.fit_transform(X)"
   ]
  },
  {
   "cell_type": "code",
   "execution_count": 62,
   "id": "0665bea6-9be9-42c8-bbad-cf0594ce238a",
   "metadata": {},
   "outputs": [],
   "source": [
    "#Lembre-se que fit_transform retorna um numpy.ndarray. \n",
    "#Se quisermos um dataframe novamente, precisamos construí-lo.\n",
    "X_imputed = pd.DataFrame(X_imp_vals, columns=[*atributos_numericos, *atributos_categoricos])"
   ]
  },
  {
   "cell_type": "code",
   "execution_count": 63,
   "id": "bb768039-4ad1-408d-97a3-99ea69b4e470",
   "metadata": {},
   "outputs": [
    {
     "data": {
      "text/plain": [
       "0"
      ]
     },
     "execution_count": 63,
     "metadata": {},
     "output_type": "execute_result"
    }
   ],
   "source": [
    "#Verificando se existe algum valor faltante no novo dataframe.\n",
    "X_imputed.isnull().sum().sum()"
   ]
  },
  {
   "cell_type": "markdown",
   "id": "df2cfb67-1518-43b5-bcb4-1fa314737864",
   "metadata": {},
   "source": [
    "Lembrando que 2 dos 3 atributos são categóricos, é necessário fazer a codificação para valores numéricos usando codificação *one-hot* para o atributo nominal (*department*) e codificação ordinal para o atributo ordinal (*salary*)."
   ]
  },
  {
   "cell_type": "code",
   "execution_count": 74,
   "id": "314cbca4-7e2e-41d0-a6ca-006df746b835",
   "metadata": {},
   "outputs": [],
   "source": [
    "#Note como ainda decidi usar OrdinalEncoder para salary, mesmo com o valor \"desconhecido\", que não \n",
    "#tem relação de ordem como os demais valores. Esta escolha foi arbitrária. O ideal é testar diferentes abordagens\n",
    "#e escolher aquela com o melhor resultado.\n",
    "transformers = [\n",
    "    ('oh_department', OneHotEncoder(), ['department']),\n",
    "    ('oe_salary', OrdinalEncoder(categories=[['desconhecido', 'low', 'medium', 'high']]), ['salary']),\n",
    "]\n",
    "\n",
    "ct_ohoe = ColumnTransformer(\n",
    "    transformers, remainder='passthrough'\n",
    ")\n",
    "X_imputed_ohoe = ct_ohoe.fit_transform(X_imputed).todense()"
   ]
  },
  {
   "cell_type": "code",
   "execution_count": 75,
   "id": "84d3cf26-4c32-4f8d-b189-94e164f0660a",
   "metadata": {},
   "outputs": [
    {
     "data": {
      "application/vnd.jupyter.widget-view+json": {
       "model_id": "92c86e3d55ce4235843a163f60936ab9",
       "version_major": 2,
       "version_minor": 0
      },
      "text/plain": [
       "Folds avaliados:   0%|          | 0/10 [00:00<?, ?it/s]"
      ]
     },
     "metadata": {},
     "output_type": "display_data"
    }
   ],
   "source": [
    "accs = do_cv_knn(X_imputed_ohoe, y, 10, range(1,20,2))"
   ]
  },
  {
   "cell_type": "code",
   "execution_count": 76,
   "id": "1b318fa1-6ec4-438a-b3aa-add37aebce31",
   "metadata": {},
   "outputs": [
    {
     "name": "stdout",
     "output_type": "stream",
     "text": [
      "acurácia - min: 0.76, max: 0.76, avg +- std: 0.76+-0.00\n"
     ]
    }
   ],
   "source": [
    "print(\"acurácia - min: %.2f, max: %.2f, avg +- std: %.2f+-%.2f\" % (min(accs), max(accs), np.mean(accs), np.std(accs)))"
   ]
  },
  {
   "cell_type": "markdown",
   "id": "b3630217-13d3-4d61-93dd-9edbbe9745a7",
   "metadata": {},
   "source": [
    "## Valores Faltantes e Validação Cruzada\n",
    "\n",
    "O exemplo com a estratégia de imputação acima não está metodologicamente correto. Isto resulta do fato que usamos a base de dados *inteira* para estimar a média do atributo *promotion_last_5years* para fazer a imputação. Com isto, foram usados dados do conjunto de teste, o que \"vaza\" informações do conjunto de teste no modelo. O ideal é realizar o cálculo das estatísticas que serão usadas na imputação no conjunto de treinamento, e somente aplicá-la no conjunto de testes. O código abaixo leva este detalhe em consideração. Além disto, como no processo de validação cruzada o conjunto de treinamento e testes é diferente em cada rodada, é importante que a imputação seja realizada novamente em cada rodada da validação cruzada.\n"
   ]
  },
  {
   "cell_type": "code",
   "execution_count": 92,
   "id": "4642340f-c5d0-4e9f-a74f-060501ded589",
   "metadata": {},
   "outputs": [],
   "source": [
    "from tqdm.notebook import tqdm\n",
    "\n",
    "#Esta função recebe os atributos das instâncias de treinamento e de teste. As estatísticas para a imputação são\n",
    "#calculadas sobre o conjunto de treinamento, e apenas aplicadas no conjunto de testes.\n",
    "def imputar_dados(X_treino, X_teste):\n",
    "    atributos_numericos = ['promotion_last_5years']\n",
    "    atributos_categoricos = ['department', 'salary']\n",
    "    \n",
    "    transformers = [\n",
    "        ('imp_num', SimpleImputer(strategy='mean'), atributos_numericos),\n",
    "        ('imp_cat', SimpleImputer(strategy='constant', fill_value='desconhecido'), atributos_categoricos),\n",
    "    ]\n",
    "    \n",
    "    ct = ColumnTransformer(\n",
    "        transformers, remainder='drop'\n",
    "    )\n",
    "    \n",
    "    #Calcular a estatística para a imputação e transformar o conjunto de treinamento\n",
    "    X_imputed_treino = ct.fit_transform(X_treino)\n",
    "    #Construir o dataframe do conjunto de treinamento, agora com dados imputados.\n",
    "    X_imputed_treino = pd.DataFrame(X_imputed_treino, columns=[*atributos_numericos, *atributos_categoricos])\n",
    "    \n",
    "    #Aplicar a estatística obtida a partir do conjunto de treinamento no conjunto de testes\n",
    "    X_imputed_teste = ct.transform(X_teste)\n",
    "    #Construir o dataframe do conjunto de testes, agora com dados imputados.\n",
    "    X_imputed_teste = pd.DataFrame(X_imputed_teste, columns=[*atributos_numericos, *atributos_categoricos])\n",
    "    \n",
    "    return X_imputed_treino, X_imputed_teste\n",
    "\n",
    "def codificar_categoricas(X_treino, X_teste):\n",
    "    \n",
    "    transformers = [\n",
    "        ('oh_department', OneHotEncoder(), ['department']),\n",
    "        ('oe_salary', OrdinalEncoder(categories=[['desconhecido', 'low', 'medium', 'high']]), ['salary']),\n",
    "    ]\n",
    "\n",
    "    ct = ColumnTransformer(\n",
    "        transformers, remainder='passthrough'\n",
    "    )\n",
    "    X_treino_ = ct.fit_transform(X_treino).todense()\n",
    "    X_teste_ = ct.transform(X_teste).todense()\n",
    "    \n",
    "    return X_treino_, X_teste_\n",
    "    "
   ]
  },
  {
   "cell_type": "code",
   "execution_count": 93,
   "id": "17662673-c7ff-46fd-b46d-c7029f66a267",
   "metadata": {},
   "outputs": [],
   "source": [
    "def do_cv_knn_imputer(X, y, cv_splits, ks, imputer=None, encoder=None):\n",
    "\n",
    "    skf = StratifiedKFold(n_splits=cv_splits, shuffle=True, random_state=1)\n",
    "\n",
    "    acuracias = []\n",
    "    \n",
    "    pgb = tqdm(total=cv_splits, desc='Folds avaliados')\n",
    "    \n",
    "    for treino_idx, teste_idx in skf.split(X, y):\n",
    "\n",
    "        if isinstance(X, pd.DataFrame):\n",
    "            X_treino = X.iloc[treino_idx]\n",
    "            X_teste = X.iloc[teste_idx]\n",
    "            \n",
    "            if imputer is not None:\n",
    "                X_treino, X_teste = imputer(X_treino, X_teste)            \n",
    "\n",
    "            if encoder is not None:\n",
    "                X_treino, X_teste = encoder(X_treino, X_teste)    \n",
    "            else:\n",
    "                X_treino = X_treino.values\n",
    "                X_teste = X_teste.values   \n",
    "        else:\n",
    "            X_treino = X[treino_idx]\n",
    "            X_teste = X[teste_idx]\n",
    "            \n",
    "        y_treino = y[treino_idx]\n",
    "        y_teste = y[teste_idx]\n",
    "        \n",
    "        X_treino, X_val, y_treino, y_val = train_test_split(X_treino, y_treino, stratify=y_treino, test_size=0.2, random_state=1)\n",
    "\n",
    "        ss = StandardScaler()\n",
    "        ss.fit(X_treino)\n",
    "        X_treino = ss.transform(X_treino)\n",
    "        X_teste = ss.transform(X_teste)\n",
    "        X_val = ss.transform(X_val)\n",
    "\n",
    "        knn, _, _ = selecionar_melhor_k_knn(ks, X_treino, X_val, y_treino, y_val)\n",
    "        pred = knn.predict(X_teste)\n",
    "\n",
    "        acuracias.append(accuracy_score(y_teste, pred))\n",
    "        \n",
    "        pgb.update(1)\n",
    "    \n",
    "    pgb.close()\n",
    "    \n",
    "    return acuracias\n"
   ]
  },
  {
   "cell_type": "code",
   "execution_count": 94,
   "id": "7a51a2ac-88c0-4065-9166-2a1c5a0a4c8a",
   "metadata": {},
   "outputs": [
    {
     "data": {
      "text/html": [
       "<div>\n",
       "<style scoped>\n",
       "    .dataframe tbody tr th:only-of-type {\n",
       "        vertical-align: middle;\n",
       "    }\n",
       "\n",
       "    .dataframe tbody tr th {\n",
       "        vertical-align: top;\n",
       "    }\n",
       "\n",
       "    .dataframe thead th {\n",
       "        text-align: right;\n",
       "    }\n",
       "</style>\n",
       "<table border=\"1\" class=\"dataframe\">\n",
       "  <thead>\n",
       "    <tr style=\"text-align: right;\">\n",
       "      <th></th>\n",
       "      <th>promotion_last_5years</th>\n",
       "      <th>department</th>\n",
       "      <th>salary</th>\n",
       "      <th>left</th>\n",
       "    </tr>\n",
       "  </thead>\n",
       "  <tbody>\n",
       "    <tr>\n",
       "      <th>0</th>\n",
       "      <td>0.0</td>\n",
       "      <td>sales</td>\n",
       "      <td>low</td>\n",
       "      <td>1</td>\n",
       "    </tr>\n",
       "    <tr>\n",
       "      <th>1</th>\n",
       "      <td>0.0</td>\n",
       "      <td>sales</td>\n",
       "      <td>medium</td>\n",
       "      <td>1</td>\n",
       "    </tr>\n",
       "    <tr>\n",
       "      <th>2</th>\n",
       "      <td>0.0</td>\n",
       "      <td>sales</td>\n",
       "      <td>medium</td>\n",
       "      <td>1</td>\n",
       "    </tr>\n",
       "    <tr>\n",
       "      <th>3</th>\n",
       "      <td>0.0</td>\n",
       "      <td>sales</td>\n",
       "      <td>low</td>\n",
       "      <td>1</td>\n",
       "    </tr>\n",
       "    <tr>\n",
       "      <th>4</th>\n",
       "      <td>0.0</td>\n",
       "      <td>sales</td>\n",
       "      <td>low</td>\n",
       "      <td>1</td>\n",
       "    </tr>\n",
       "    <tr>\n",
       "      <th>...</th>\n",
       "      <td>...</td>\n",
       "      <td>...</td>\n",
       "      <td>...</td>\n",
       "      <td>...</td>\n",
       "    </tr>\n",
       "    <tr>\n",
       "      <th>14994</th>\n",
       "      <td>0.0</td>\n",
       "      <td>support</td>\n",
       "      <td>low</td>\n",
       "      <td>1</td>\n",
       "    </tr>\n",
       "    <tr>\n",
       "      <th>14995</th>\n",
       "      <td>0.0</td>\n",
       "      <td>support</td>\n",
       "      <td>low</td>\n",
       "      <td>1</td>\n",
       "    </tr>\n",
       "    <tr>\n",
       "      <th>14996</th>\n",
       "      <td>0.0</td>\n",
       "      <td>support</td>\n",
       "      <td>low</td>\n",
       "      <td>1</td>\n",
       "    </tr>\n",
       "    <tr>\n",
       "      <th>14997</th>\n",
       "      <td>0.0</td>\n",
       "      <td>support</td>\n",
       "      <td>low</td>\n",
       "      <td>1</td>\n",
       "    </tr>\n",
       "    <tr>\n",
       "      <th>14998</th>\n",
       "      <td>0.0</td>\n",
       "      <td>support</td>\n",
       "      <td>low</td>\n",
       "      <td>1</td>\n",
       "    </tr>\n",
       "  </tbody>\n",
       "</table>\n",
       "<p>14999 rows × 4 columns</p>\n",
       "</div>"
      ],
      "text/plain": [
       "       promotion_last_5years department  salary  left\n",
       "0                        0.0      sales     low     1\n",
       "1                        0.0      sales  medium     1\n",
       "2                        0.0      sales  medium     1\n",
       "3                        0.0      sales     low     1\n",
       "4                        0.0      sales     low     1\n",
       "...                      ...        ...     ...   ...\n",
       "14994                    0.0    support     low     1\n",
       "14995                    0.0    support     low     1\n",
       "14996                    0.0    support     low     1\n",
       "14997                    0.0    support     low     1\n",
       "14998                    0.0    support     low     1\n",
       "\n",
       "[14999 rows x 4 columns]"
      ]
     },
     "execution_count": 94,
     "metadata": {},
     "output_type": "execute_result"
    }
   ],
   "source": [
    "df = pd.read_csv('employee_nans.csv')\n",
    "df.drop(df.columns[:-4:1], axis=1, inplace=True)\n",
    "y = df[['left']].values.ravel()\n",
    "X = df.drop('left', axis=1)\n",
    "df"
   ]
  },
  {
   "cell_type": "code",
   "execution_count": 95,
   "id": "571033b0-c59d-4382-9fa0-f91da10ae778",
   "metadata": {},
   "outputs": [
    {
     "data": {
      "application/vnd.jupyter.widget-view+json": {
       "model_id": "f3f881a950734b9497584d962b7e68ae",
       "version_major": 2,
       "version_minor": 0
      },
      "text/plain": [
       "Folds avaliados:   0%|          | 0/10 [00:00<?, ?it/s]"
      ]
     },
     "metadata": {},
     "output_type": "display_data"
    }
   ],
   "source": [
    "accs = do_cv_knn_imputer(X, y, 10, range(1,20,2), imputar_dados, codificar_categoricas)"
   ]
  },
  {
   "cell_type": "code",
   "execution_count": 96,
   "id": "d7b30760-5e9d-41ac-8c9e-ee3d4b352fb2",
   "metadata": {},
   "outputs": [
    {
     "name": "stdout",
     "output_type": "stream",
     "text": [
      "acurácia - min: 0.76, max: 0.76, avg +- std: 0.76+-0.00\n"
     ]
    }
   ],
   "source": [
    "print(\"acurácia - min: %.2f, max: %.2f, avg +- std: %.2f+-%.2f\" % (min(accs), max(accs), np.mean(accs), np.std(accs)))"
   ]
  },
  {
   "cell_type": "markdown",
   "id": "d8adc3e7-c783-4346-b094-bd112d0393b1",
   "metadata": {},
   "source": [
    "Não houve diferença no desempenho obtido fazendo a imputação adequada dos atributos numéricos usando apenas o conjunto de treinamento, quando comparado ao resultado anterior. Entretanto, em datasets mais complexos pode haver diferença significativa. Mesmo que o resultado obtido seja inferior com o método apresentado por último, é importante usá-lo para avaliar a generalização apropriadamente."
   ]
  }
 ],
 "metadata": {
  "kernelspec": {
   "display_name": "Python 3",
   "language": "python",
   "name": "python3"
  },
  "language_info": {
   "codemirror_mode": {
    "name": "ipython",
    "version": 3
   },
   "file_extension": ".py",
   "mimetype": "text/x-python",
   "name": "python",
   "nbconvert_exporter": "python",
   "pygments_lexer": "ipython3",
   "version": "3.8.8"
  }
 },
 "nbformat": 4,
 "nbformat_minor": 5
}
